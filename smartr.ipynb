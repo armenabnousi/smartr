{
 "cells": [
  {
   "cell_type": "markdown",
   "metadata": {},
   "source": [
    "I'm using yfinance package to download the stock data from yahoo finance. Then I will try predicting the prices for each stock. My goal is to make a prediction on the expected value and variance of the price based on the previous values. Then I'll try to compute the experimental covarience between different stocks and input them to an optimization problem designed to reduce the mixed variance while maximizing the expected output. This is based on the mean-volatility predicate in financial analysis."
   ]
  },
  {
   "cell_type": "code",
   "execution_count": 1,
   "metadata": {},
   "outputs": [],
   "source": [
    "import yfinance as yf\n",
    "import pandas as pd\n",
    "import tensorflow as tf\n",
    "import pickle\n",
    "import numpy as np\n",
    "import matplotlib.pyplot as plt"
   ]
  },
  {
   "cell_type": "code",
   "execution_count": 2,
   "metadata": {},
   "outputs": [],
   "source": [
    "msft = yf.Ticker(\"MSFT\")\n",
    "temp_hist = msft.history(period=\"9y\", interval=\"1d\")"
   ]
  },
  {
   "cell_type": "markdown",
   "metadata": {},
   "source": [
    "If running for first time, you need to downloaded the stock symbols or \"tickers\". This is in done by setting parameter  \"get_tickers\".<br> Currently I'm downloading the daily data for 9years. If you already have downloaded some part of the data you can download the rest and append them to each other. Later I hope to automatize this section, since my goal is to run this script once weekly or so."
   ]
  },
  {
   "cell_type": "code",
   "execution_count": 3,
   "metadata": {},
   "outputs": [],
   "source": [
    "get_tickers = False \n",
    "get_histories = False"
   ]
  },
  {
   "cell_type": "code",
   "execution_count": 4,
   "metadata": {},
   "outputs": [],
   "source": [
    "if get_tickers:\n",
    "    !curl -o /Users/abnousa/software/smartop/nasdaqtraded_companylist.txt ftp://ftp.nasdaqtrader.com/symboldirectory/nasdaqtraded.txt\n",
    "    symbols = pd.read_csv(\"/Users/abnousa/software/smartop/nasdaqtraded_companylist.txt\", sep = \"|\")\n",
    "    symbols = symbols.iloc[0:(symbols.shape[0] - 1),:] #last row is time\n",
    "    tickers = {}\n",
    "    failed = []\n",
    "    for i in symbols.index:\n",
    "        sym = symbols.iloc[i]['Symbol']\n",
    "        ticker = yf.Ticker(sym)\n",
    "        try:\n",
    "            check = ticker.calendar\n",
    "        except Exception as e:\n",
    "            print(' '.join([\"disregarding\", sym, type(e).__name__]))\n",
    "            failed.append(sym)\n",
    "            continue\n",
    "        print(' '.join([sym, 'added']))\n",
    "        name = symbols.iloc[i]['Security Name']\n",
    "        tickers[sym] = {'name': name, 'ticker': ticker}\n",
    "    sym_data = {'tickers':tickers, 'failed':failed}\n",
    "    with open('sym_data.pkl', 'wb') as symfile:\n",
    "        pickle.dump(sym_data, symfile)"
   ]
  },
  {
   "cell_type": "code",
   "execution_count": 5,
   "metadata": {},
   "outputs": [],
   "source": [
    "with open('sym_data.pkl', 'rb') as symfile:\n",
    "    sym_data = pickle.load(symfile)\n",
    "    tickers, failed = sym_data['tickers'], sym_data['failed']"
   ]
  },
  {
   "cell_type": "code",
   "execution_count": 6,
   "metadata": {},
   "outputs": [],
   "source": [
    "if get_histories:\n",
    "    msft = yf.Ticker(\"MSFT\")\n",
    "    temp_hist = msft.history(period=\"9y\", interval=\"1d\")\n",
    "    d = pd.DataFrame(data = 0, columns = list(tickers.keys()), index = temp_hist.index)\n",
    "    for i in d.columns:\n",
    "        print(i)\n",
    "        hist = tickers[i]['ticker'].history(start = list(temp_hist.index)[0], end = list(temp_hist.index)[-1], interval = \"1d\")['Open']\n",
    "        d[i] = hist\n",
    "    with open(\"daily_history_9y.pkl\", 'wb') as histfile:\n",
    "        pickle.dump(d, histfile)"
   ]
  },
  {
   "cell_type": "code",
   "execution_count": 29,
   "metadata": {},
   "outputs": [],
   "source": [
    "with open(\"daily_history_9y.pkl\", 'rb') as infile:\n",
    "    d = pickle.load(infile)"
   ]
  },
  {
   "cell_type": "markdown",
   "metadata": {},
   "source": [
    "Some of the stock data have a lot of missing points over the past 9 years. This might be because they were founded later or had their IPO sometime during this time-period. Below I take a look at the number of stocks with various numbers of missing points and filter the data to the ones with less than 20 NA's. I will impute the missing points by \"backward filling\"."
   ]
  },
  {
   "cell_type": "code",
   "execution_count": 30,
   "metadata": {},
   "outputs": [
    {
     "data": {
      "text/plain": [
       "(array([4166.,   28.,   26.,   48.,   21.,   23.,   20.,   10.,   23.,\n",
       "          24.,   22.,    8.,   56.,   17.,   46.,   21.,   14.,   23.,\n",
       "          17.,   24.,   34.,   11.,   16.,   27.,   21.,   30.,   29.,\n",
       "          31.,   28.,   23.,   38.,   60.,   27.,   23.,   46.,   28.,\n",
       "          41.,   41.,   53.,   40.,   24.,   44.,   44.,   34.,   31.,\n",
       "          34.,   32.,   25.,   35.,   36.,   58.,   28.,   32.,   36.,\n",
       "          38.,   29.,   16.,   20.,   25.,   36.,   39.,   28.,   25.,\n",
       "          46.,   39.,   26.,   34.,   35.,   21.,   27.,   38.,   37.,\n",
       "          62.,   28.,   30.,   57.,   89.,   50.,   45.,   40.,   48.,\n",
       "          37.,   45.,   46.,   56.,   45.,   71.,   46.,   35.,   33.,\n",
       "          25.,   66.,   59.,   44.,   38.,   38.,   20.,   57.,   47.,\n",
       "          38.]),\n",
       " array([   0.  ,   22.64,   45.28,   67.92,   90.56,  113.2 ,  135.84,\n",
       "         158.48,  181.12,  203.76,  226.4 ,  249.04,  271.68,  294.32,\n",
       "         316.96,  339.6 ,  362.24,  384.88,  407.52,  430.16,  452.8 ,\n",
       "         475.44,  498.08,  520.72,  543.36,  566.  ,  588.64,  611.28,\n",
       "         633.92,  656.56,  679.2 ,  701.84,  724.48,  747.12,  769.76,\n",
       "         792.4 ,  815.04,  837.68,  860.32,  882.96,  905.6 ,  928.24,\n",
       "         950.88,  973.52,  996.16, 1018.8 , 1041.44, 1064.08, 1086.72,\n",
       "        1109.36, 1132.  , 1154.64, 1177.28, 1199.92, 1222.56, 1245.2 ,\n",
       "        1267.84, 1290.48, 1313.12, 1335.76, 1358.4 , 1381.04, 1403.68,\n",
       "        1426.32, 1448.96, 1471.6 , 1494.24, 1516.88, 1539.52, 1562.16,\n",
       "        1584.8 , 1607.44, 1630.08, 1652.72, 1675.36, 1698.  , 1720.64,\n",
       "        1743.28, 1765.92, 1788.56, 1811.2 , 1833.84, 1856.48, 1879.12,\n",
       "        1901.76, 1924.4 , 1947.04, 1969.68, 1992.32, 2014.96, 2037.6 ,\n",
       "        2060.24, 2082.88, 2105.52, 2128.16, 2150.8 , 2173.44, 2196.08,\n",
       "        2218.72, 2241.36, 2264.  ]),\n",
       " <a list of 100 Patch objects>)"
      ]
     },
     "execution_count": 30,
     "metadata": {},
     "output_type": "execute_result"
    },
    {
     "data": {
      "image/png": "[encoded data removed]",
      "text/plain": [
       "<Figure size 432x288 with 1 Axes>"
      ]
     },
     "metadata": {
      "needs_background": "light"
     },
     "output_type": "display_data"
    }
   ],
   "source": [
    "plt.hist(d.isna().sum(), bins = 100)"
   ]
  },
  {
   "cell_type": "code",
   "execution_count": 31,
   "metadata": {},
   "outputs": [
    {
     "data": {
      "text/plain": [
       "(2264, 4165)"
      ]
     },
     "execution_count": 31,
     "metadata": {},
     "output_type": "execute_result"
    }
   ],
   "source": [
    "d = d.iloc[:, list(np.where(d.isna().sum() < 20)[0])]\n",
    "d = d.fillna(method = \"bfill\")\n",
    "d.shape"
   ]
  },
  {
   "cell_type": "markdown",
   "metadata": {},
   "source": [
    "Alright, now we have the data and for each stock we can take a look at their trend. Change the *ticker_name* below and have a look at the plot. I'm plotting the Microsoft stock prices from some day in December 2012 up to December 2019."
   ]
  },
  {
   "cell_type": "code",
   "execution_count": 32,
   "metadata": {},
   "outputs": [
    {
     "data": {
      "text/plain": [
       "[<matplotlib.lines.Line2D at 0x13451b4a8>]"
      ]
     },
     "execution_count": 32,
     "metadata": {},
     "output_type": "execute_result"
    },
    {
     "data": {
      "image/png": "[encoded data removed]",
      "text/plain": [
       "<Figure size 432x288 with 1 Axes>"
      ]
     },
     "metadata": {
      "needs_background": "light"
     },
     "output_type": "display_data"
    }
   ],
   "source": [
    "ticker_name = \"MSFT\"\n",
    "import matplotlib.pyplot as plt\n",
    "plt.plot(d[ticker_name])"
   ]
  },
  {
   "cell_type": "markdown",
   "metadata": {},
   "source": [
    "Alright, we have the data, now it's time to model them. Here we have some choices to make. I have listed a few of them here and also explained my approach:\n",
    "- First question is whether we want to model the problem as univariate or multivariate prediction. i.e. looking at each stock separately or try getting help from other stocks' data in forecasting of the price.\n",
    " *  My initial goal was to build a multivariate model. I have over 4000 stock tickers that I want to analyze. My [non-financially-trained] thinking was that these stocks are correlated one-way or another and we can use the trend in one stock to help prediction in other stock as well. This proved to be a difficult thing to do. i.e. I had worse performance when training multivariate model as opposed to univariate. I still have a filling that multivariate is the way to go*. But since I rather have shallower networks that won't take long training, I will be approahcing the problem as univariate, meaning I will loop over each company, train a model for that stock based only on that stock's data and make prediction, then move to the next company. *Another approach that I have a strong feeling about is to first cluster the companies for example based on the type of business and try multivariate forecasting for each cluster. For example we can try multivariate forecasting for fintech companies, then for construction companies, then for biotech or pharmaceutical companies. This method assumes that macroeconomic trends affect a whole set of businesses and we can better capture the variations in prices of these businesses if we look at them as a whole. I yet have to try this method.*\n",
    "- Another choice -a rather technical one- is about data normalization. As a rule of thumb we know that we generally need to perform some type of data normalization. Well, here is a table I compiled based on a few small experiments. In all these experiments I have tried a shallow network with 3 to 4 layers and each layer with 128 to 512 units of the specified type. Interestingly, as you can see in this table many of the methods result in a prediction closer to the mean of the training data. Of course, **this can be most of all a result of the loss function**, as well as other factors, including network architecture, and the normalization method.\n",
    "\n",
    "| Architecture | Normalization | Loss | Output|  \n",
    "|-|-|-|-|  \n",
    "| SimpleRNN-based | None  |  mae, mse, or huber | close to mean with small variance |  \n",
    "| SimpleRNN-based | 0-1 scaling  |  mae, mse, or huber | close to mean with small variance |  \n",
    "| LSTM-based | None  |  mae, mse, or huber | close to mean with small variance |  \n",
    "| LSTM-based | 0-1 scaling  |  mae, mse, or huber | better than mean! |  \n",
    "| GRU-based | None  |  mae, mse, or huber | close to mean with small variance |  \n",
    "| GRU-based | 0-1 scaling  |  mae, mse, or huber | better than mean! |  \n",
    "\n",
    "* Loss Function: MSE gives higher value to outliers, whereas MAE gives equal importance to all data points. Huber works somewhere in between the MSE and MAE, with quadratic penalty for smaller losses and linear penalty for larger losses. I don't like how MSE performs on this data, MAE and Huber are better options IMHO, but feel free to change it if you'd like.\n",
    "\n",
    "*A NOTE ON DATA NORMALIZATION:* A silly mistake I made here and took me hours to realize and fix: We are performing a simple scaling of data to 0-1. I was excited to learn about the *Lambda* layers in keras. And I was trying to do the scaling using these layers by pre-computing the maximum of each column in the training data (in multivariate setting, or the maximum of \"the column\" in the univariate setting) and passing it on to the lambda layer which would run the scaling code below by dividing all entries of a column to the maximum of that column (computed from training data). Then performing the reverse on the output of the model. On the other hand, since I was performing a data scaling to 0-1, I automatically set my last layer to have a 'tanh' activation, followed by (x+1)/2 in the scaling lambda layer. Sounds fair, right?! NO - because the scaling factors are computed on the training data, and the post-modified tanh layer output is in 0-1 range, multiplying it by the normalization factor can be at most as big as the normalization factor, aka the maximum number in each column in the training data. Surprise, our prices are not limited to that range, and I certainly hope the stock will have an upward trend, exceeding the maximum in the previous values. Simple solution: do not use tanh or sigmoid or softmax on your last layer; let it roam freely! Use linear, or relu maybe? (another option is to use the maximum in the entire column rather than training data, but still that limits our output to a certain number if your output layer has for exampe tanh activation). After all, it seems like exponential and **elu** activation on the output layer (prior to scaling back) gives the best performance in this problem."
   ]
  },
  {
   "cell_type": "code",
   "execution_count": 33,
   "metadata": {},
   "outputs": [],
   "source": [
    "# this function is copied exactly from the deeplearning.ai course on time-series analysis on coursera!\n",
    "def windowed_dataset(series, window_size, batch_size, shuffle_buffer):\n",
    "    dataset = tf.data.Dataset.from_tensor_slices(series)\n",
    "    dataset = dataset.window(window_size + 1, shift=1, drop_remainder=True)\n",
    "    dataset = dataset.flat_map(lambda window: window.batch(window_size + 1))\n",
    "    dataset = dataset.shuffle(shuffle_buffer).map(lambda window: (window[:-1], window[-1]))\n",
    "    dataset = dataset.batch(batch_size).prefetch(1)\n",
    "    return dataset"
   ]
  },
  {
   "cell_type": "code",
   "execution_count": 34,
   "metadata": {},
   "outputs": [
    {
     "data": {
      "text/html": [
       "<div>\n",
       "<style scoped>\n",
       "    .dataframe tbody tr th:only-of-type {\n",
       "        vertical-align: middle;\n",
       "    }\n",
       "\n",
       "    .dataframe tbody tr th {\n",
       "        vertical-align: top;\n",
       "    }\n",
       "\n",
       "    .dataframe thead th {\n",
       "        text-align: right;\n",
       "    }\n",
       "</style>\n",
       "<table border=\"1\" class=\"dataframe\">\n",
       "  <thead>\n",
       "    <tr style=\"text-align: right;\">\n",
       "      <th></th>\n",
       "      <th>A</th>\n",
       "    </tr>\n",
       "  </thead>\n",
       "  <tbody>\n",
       "    <tr>\n",
       "      <th>count</th>\n",
       "      <td>2264.000000</td>\n",
       "    </tr>\n",
       "    <tr>\n",
       "      <th>mean</th>\n",
       "      <td>44.591899</td>\n",
       "    </tr>\n",
       "    <tr>\n",
       "      <th>std</th>\n",
       "      <td>16.918005</td>\n",
       "    </tr>\n",
       "    <tr>\n",
       "      <th>min</th>\n",
       "      <td>18.940000</td>\n",
       "    </tr>\n",
       "    <tr>\n",
       "      <th>25%</th>\n",
       "      <td>30.517500</td>\n",
       "    </tr>\n",
       "    <tr>\n",
       "      <th>50%</th>\n",
       "      <td>39.035000</td>\n",
       "    </tr>\n",
       "    <tr>\n",
       "      <th>75%</th>\n",
       "      <td>61.800000</td>\n",
       "    </tr>\n",
       "    <tr>\n",
       "      <th>max</th>\n",
       "      <td>84.940000</td>\n",
       "    </tr>\n",
       "  </tbody>\n",
       "</table>\n",
       "</div>"
      ],
      "text/plain": [
       "                 A\n",
       "count  2264.000000\n",
       "mean     44.591899\n",
       "std      16.918005\n",
       "min      18.940000\n",
       "25%      30.517500\n",
       "50%      39.035000\n",
       "75%      61.800000\n",
       "max      84.940000"
      ]
     },
     "execution_count": 34,
     "metadata": {},
     "output_type": "execute_result"
    }
   ],
   "source": [
    "#d = d.iloc[:, :1]#:int(d.shape[1]/2)]\n",
    "d = d.loc[:,['A']]\n",
    "d.describe()"
   ]
  },
  {
   "cell_type": "code",
   "execution_count": 35,
   "metadata": {},
   "outputs": [],
   "source": [
    "d.reset_index(drop = False, inplace = True)"
   ]
  },
  {
   "cell_type": "code",
   "execution_count": 36,
   "metadata": {},
   "outputs": [
    {
     "name": "stdout",
     "output_type": "stream",
     "text": [
      "(456, 3)\n",
      "         Date      A weekday\n",
      "5  2010-12-31  27.18  Friday\n",
      "10 2011-01-07  27.24  Friday\n",
      "15 2011-01-14  28.07  Friday\n",
      "19 2011-01-21  27.88  Friday\n",
      "24 2011-01-28  27.88  Friday\n"
     ]
    }
   ],
   "source": [
    "d['weekday'] = d['Date'].dt.day_name()\n",
    "d = d[d['weekday'] == \"Friday\"]\n",
    "print(d.shape)\n",
    "print(d.head())"
   ]
  },
  {
   "cell_type": "code",
   "execution_count": 37,
   "metadata": {},
   "outputs": [
    {
     "data": {
      "text/html": [
       "<div>\n",
       "<style scoped>\n",
       "    .dataframe tbody tr th:only-of-type {\n",
       "        vertical-align: middle;\n",
       "    }\n",
       "\n",
       "    .dataframe tbody tr th {\n",
       "        vertical-align: top;\n",
       "    }\n",
       "\n",
       "    .dataframe thead th {\n",
       "        text-align: right;\n",
       "    }\n",
       "</style>\n",
       "<table border=\"1\" class=\"dataframe\">\n",
       "  <thead>\n",
       "    <tr style=\"text-align: right;\">\n",
       "      <th></th>\n",
       "      <th>A</th>\n",
       "    </tr>\n",
       "  </thead>\n",
       "  <tbody>\n",
       "    <tr>\n",
       "      <th>count</th>\n",
       "      <td>456.000000</td>\n",
       "    </tr>\n",
       "    <tr>\n",
       "      <th>mean</th>\n",
       "      <td>44.713026</td>\n",
       "    </tr>\n",
       "    <tr>\n",
       "      <th>std</th>\n",
       "      <td>17.060799</td>\n",
       "    </tr>\n",
       "    <tr>\n",
       "      <th>min</th>\n",
       "      <td>20.330000</td>\n",
       "    </tr>\n",
       "    <tr>\n",
       "      <th>25%</th>\n",
       "      <td>30.500000</td>\n",
       "    </tr>\n",
       "    <tr>\n",
       "      <th>50%</th>\n",
       "      <td>39.090000</td>\n",
       "    </tr>\n",
       "    <tr>\n",
       "      <th>75%</th>\n",
       "      <td>62.732500</td>\n",
       "    </tr>\n",
       "    <tr>\n",
       "      <th>max</th>\n",
       "      <td>84.940000</td>\n",
       "    </tr>\n",
       "  </tbody>\n",
       "</table>\n",
       "</div>"
      ],
      "text/plain": [
       "                A\n",
       "count  456.000000\n",
       "mean    44.713026\n",
       "std     17.060799\n",
       "min     20.330000\n",
       "25%     30.500000\n",
       "50%     39.090000\n",
       "75%     62.732500\n",
       "max     84.940000"
      ]
     },
     "execution_count": 37,
     "metadata": {},
     "output_type": "execute_result"
    }
   ],
   "source": [
    "d = d.loc[:,['A']]\n",
    "d.describe()"
   ]
  },
  {
   "cell_type": "code",
   "execution_count": 38,
   "metadata": {},
   "outputs": [],
   "source": [
    "window_size = 30\n",
    "batch_size = 32\n",
    "shuffle_buffer = 100000\n",
    "training_points = 350"
   ]
  },
  {
   "cell_type": "code",
   "execution_count": 39,
   "metadata": {},
   "outputs": [],
   "source": [
    "#d = d / train_d.max(axis = 0)\n",
    "train_d = d.iloc[:training_points, :]\n",
    "valid_d = d.iloc[-training_points:, :]\n",
    "train_df = windowed_dataset(train_d.to_numpy(), window_size, batch_size, shuffle_buffer)\n",
    "normalization_factors = train_d.max()\n",
    "valid_df = windowed_dataset(valid_d.to_numpy(), window_size, batch_size, shuffle_buffer)"
   ]
  },
  {
   "cell_type": "code",
   "execution_count": 40,
   "metadata": {},
   "outputs": [
    {
     "data": {
      "text/html": [
       "<div>\n",
       "<style scoped>\n",
       "    .dataframe tbody tr th:only-of-type {\n",
       "        vertical-align: middle;\n",
       "    }\n",
       "\n",
       "    .dataframe tbody tr th {\n",
       "        vertical-align: top;\n",
       "    }\n",
       "\n",
       "    .dataframe thead th {\n",
       "        text-align: right;\n",
       "    }\n",
       "</style>\n",
       "<table border=\"1\" class=\"dataframe\">\n",
       "  <thead>\n",
       "    <tr style=\"text-align: right;\">\n",
       "      <th></th>\n",
       "      <th>A</th>\n",
       "    </tr>\n",
       "  </thead>\n",
       "  <tbody>\n",
       "    <tr>\n",
       "      <th>1723</th>\n",
       "      <td>66.61</td>\n",
       "    </tr>\n",
       "    <tr>\n",
       "      <th>1728</th>\n",
       "      <td>66.89</td>\n",
       "    </tr>\n",
       "    <tr>\n",
       "      <th>1733</th>\n",
       "      <td>66.16</td>\n",
       "    </tr>\n",
       "    <tr>\n",
       "      <th>1738</th>\n",
       "      <td>67.32</td>\n",
       "    </tr>\n",
       "    <tr>\n",
       "      <th>1742</th>\n",
       "      <td>67.62</td>\n",
       "    </tr>\n",
       "  </tbody>\n",
       "</table>\n",
       "</div>"
      ],
      "text/plain": [
       "          A\n",
       "1723  66.61\n",
       "1728  66.89\n",
       "1733  66.16\n",
       "1738  67.32\n",
       "1742  67.62"
      ]
     },
     "execution_count": 40,
     "metadata": {},
     "output_type": "execute_result"
    }
   ],
   "source": [
    "train_d.tail()"
   ]
  },
  {
   "cell_type": "code",
   "execution_count": 41,
   "metadata": {},
   "outputs": [],
   "source": [
    "def layer_normalize(x, factors = None, denorm = False):\n",
    "    if factors is None:\n",
    "        factors = tf.reduce_max(x, axis = 0, keepdims = False)\n",
    "        #tf.print(factors)\n",
    "        tf.print(\"pre mod shape of x\")\n",
    "        tf.print(tf.shape(x))\n",
    "        tf.print(\"shape of factors\")\n",
    "        tf.print(tf.shape(factors))\n",
    "    if denorm:\n",
    "        #x += 1\n",
    "        factors = 1. / factors\n",
    "    x /= factors\n",
    "    #tf.print(\"post mod shape of x\")\n",
    "    #tf.print(tf.shape(x))\n",
    "    return x"
   ]
  },
  {
   "cell_type": "code",
   "execution_count": 55,
   "metadata": {},
   "outputs": [
    {
     "name": "stdout",
     "output_type": "stream",
     "text": [
      "1\n"
     ]
    },
    {
     "ename": "ValueError",
     "evalue": "Attempt to convert a value (<tensorflow.python.keras.layers.core.Dense object at 0x137d42898>) with an unsupported type (<class 'tensorflow.python.keras.layers.core.Dense'>) to a Tensor.",
     "output_type": "error",
     "traceback": [
      "\u001b[0;31m---------------------------------------------------------------------------\u001b[0m",
      "\u001b[0;31m_FallbackException\u001b[0m                        Traceback (most recent call last)",
      "\u001b[0;32m/usr/local/lib/python3.7/site-packages/tensorflow_core/python/ops/gen_array_ops.py\u001b[0m in \u001b[0;36mconcat_v2\u001b[0;34m(values, axis, name)\u001b[0m\n\u001b[1;32m   1235\u001b[0m         \u001b[0m_ctx\u001b[0m\u001b[0;34m.\u001b[0m\u001b[0m_context_handle\u001b[0m\u001b[0;34m,\u001b[0m \u001b[0m_ctx\u001b[0m\u001b[0;34m.\u001b[0m\u001b[0m_thread_local_data\u001b[0m\u001b[0;34m.\u001b[0m\u001b[0mdevice_name\u001b[0m\u001b[0;34m,\u001b[0m \u001b[0;34m\"ConcatV2\"\u001b[0m\u001b[0;34m,\u001b[0m\u001b[0;34m\u001b[0m\u001b[0;34m\u001b[0m\u001b[0m\n\u001b[0;32m-> 1236\u001b[0;31m         name, _ctx._post_execution_callbacks, values, axis)\n\u001b[0m\u001b[1;32m   1237\u001b[0m       \u001b[0;32mreturn\u001b[0m \u001b[0m_result\u001b[0m\u001b[0;34m\u001b[0m\u001b[0;34m\u001b[0m\u001b[0m\n",
      "\u001b[0;31m_FallbackException\u001b[0m: This function does not handle the case of the path where all inputs are not already EagerTensors.",
      "\nDuring handling of the above exception, another exception occurred:\n",
      "\u001b[0;31mValueError\u001b[0m                                Traceback (most recent call last)",
      "\u001b[0;32m<ipython-input-55-9dce7850631c>\u001b[0m in \u001b[0;36m<module>\u001b[0;34m\u001b[0m\n\u001b[1;32m     56\u001b[0m \u001b[0msigmoid_out\u001b[0m \u001b[0;34m=\u001b[0m \u001b[0mtf\u001b[0m\u001b[0;34m.\u001b[0m\u001b[0mkeras\u001b[0m\u001b[0;34m.\u001b[0m\u001b[0mlayers\u001b[0m\u001b[0;34m.\u001b[0m\u001b[0mDense\u001b[0m\u001b[0;34m(\u001b[0m\u001b[0munits\u001b[0m\u001b[0;34m=\u001b[0m\u001b[0;36m1\u001b[0m\u001b[0;34m,\u001b[0m \u001b[0mactivation\u001b[0m\u001b[0;34m=\u001b[0m\u001b[0mtf\u001b[0m\u001b[0;34m.\u001b[0m\u001b[0mnn\u001b[0m\u001b[0;34m.\u001b[0m\u001b[0msigmoid\u001b[0m\u001b[0;34m)\u001b[0m\u001b[0;34m\u001b[0m\u001b[0;34m\u001b[0m\u001b[0m\n\u001b[1;32m     57\u001b[0m \u001b[0mrelu_out\u001b[0m \u001b[0;34m=\u001b[0m \u001b[0mtf\u001b[0m\u001b[0;34m.\u001b[0m\u001b[0mkeras\u001b[0m\u001b[0;34m.\u001b[0m\u001b[0mlayers\u001b[0m\u001b[0;34m.\u001b[0m\u001b[0mDense\u001b[0m\u001b[0;34m(\u001b[0m\u001b[0munits\u001b[0m\u001b[0;34m=\u001b[0m\u001b[0;36m1\u001b[0m\u001b[0;34m,\u001b[0m \u001b[0mactivation\u001b[0m\u001b[0;34m=\u001b[0m\u001b[0mtf\u001b[0m\u001b[0;34m.\u001b[0m\u001b[0mnn\u001b[0m\u001b[0;34m.\u001b[0m\u001b[0mrelu\u001b[0m\u001b[0;34m)\u001b[0m\u001b[0;34m\u001b[0m\u001b[0;34m\u001b[0m\u001b[0m\n\u001b[0;32m---> 58\u001b[0;31m \u001b[0mout\u001b[0m \u001b[0;34m=\u001b[0m \u001b[0mtf\u001b[0m\u001b[0;34m.\u001b[0m\u001b[0mconcat\u001b[0m\u001b[0;34m(\u001b[0m\u001b[0;34m[\u001b[0m\u001b[0msigmoid_out\u001b[0m\u001b[0;34m,\u001b[0m \u001b[0mrelu_out\u001b[0m\u001b[0;34m]\u001b[0m\u001b[0;34m,\u001b[0m \u001b[0maxis\u001b[0m\u001b[0;34m=\u001b[0m\u001b[0;36m1\u001b[0m\u001b[0;34m)\u001b[0m\u001b[0;34m\u001b[0m\u001b[0;34m\u001b[0m\u001b[0m\n\u001b[0m\u001b[1;32m     59\u001b[0m \u001b[0minner_layers\u001b[0m\u001b[0;34m.\u001b[0m\u001b[0madd\u001b[0m\u001b[0;34m(\u001b[0m\u001b[0mout\u001b[0m\u001b[0;34m)\u001b[0m\u001b[0;34m\u001b[0m\u001b[0;34m\u001b[0m\u001b[0m\n\u001b[1;32m     60\u001b[0m \u001b[0;34m\u001b[0m\u001b[0m\n",
      "\u001b[0;32m/usr/local/lib/python3.7/site-packages/tensorflow_core/python/util/dispatch.py\u001b[0m in \u001b[0;36mwrapper\u001b[0;34m(*args, **kwargs)\u001b[0m\n\u001b[1;32m    178\u001b[0m     \u001b[0;34m\"\"\"Call target, and fall back on dispatchers if there is a TypeError.\"\"\"\u001b[0m\u001b[0;34m\u001b[0m\u001b[0;34m\u001b[0m\u001b[0m\n\u001b[1;32m    179\u001b[0m     \u001b[0;32mtry\u001b[0m\u001b[0;34m:\u001b[0m\u001b[0;34m\u001b[0m\u001b[0;34m\u001b[0m\u001b[0m\n\u001b[0;32m--> 180\u001b[0;31m       \u001b[0;32mreturn\u001b[0m \u001b[0mtarget\u001b[0m\u001b[0;34m(\u001b[0m\u001b[0;34m*\u001b[0m\u001b[0margs\u001b[0m\u001b[0;34m,\u001b[0m \u001b[0;34m**\u001b[0m\u001b[0mkwargs\u001b[0m\u001b[0;34m)\u001b[0m\u001b[0;34m\u001b[0m\u001b[0;34m\u001b[0m\u001b[0m\n\u001b[0m\u001b[1;32m    181\u001b[0m     \u001b[0;32mexcept\u001b[0m \u001b[0;34m(\u001b[0m\u001b[0mTypeError\u001b[0m\u001b[0;34m,\u001b[0m \u001b[0mValueError\u001b[0m\u001b[0;34m)\u001b[0m\u001b[0;34m:\u001b[0m\u001b[0;34m\u001b[0m\u001b[0;34m\u001b[0m\u001b[0m\n\u001b[1;32m    182\u001b[0m       \u001b[0;31m# Note: convert_to_eager_tensor currently raises a ValueError, not a\u001b[0m\u001b[0;34m\u001b[0m\u001b[0;34m\u001b[0m\u001b[0;34m\u001b[0m\u001b[0m\n",
      "\u001b[0;32m/usr/local/lib/python3.7/site-packages/tensorflow_core/python/ops/array_ops.py\u001b[0m in \u001b[0;36mconcat\u001b[0;34m(values, axis, name)\u001b[0m\n\u001b[1;32m   1429\u001b[0m           dtype=dtypes.int32).get_shape().assert_has_rank(0)\n\u001b[1;32m   1430\u001b[0m       \u001b[0;32mreturn\u001b[0m \u001b[0midentity\u001b[0m\u001b[0;34m(\u001b[0m\u001b[0mvalues\u001b[0m\u001b[0;34m[\u001b[0m\u001b[0;36m0\u001b[0m\u001b[0;34m]\u001b[0m\u001b[0;34m,\u001b[0m \u001b[0mname\u001b[0m\u001b[0;34m=\u001b[0m\u001b[0mname\u001b[0m\u001b[0;34m)\u001b[0m\u001b[0;34m\u001b[0m\u001b[0;34m\u001b[0m\u001b[0m\n\u001b[0;32m-> 1431\u001b[0;31m   \u001b[0;32mreturn\u001b[0m \u001b[0mgen_array_ops\u001b[0m\u001b[0;34m.\u001b[0m\u001b[0mconcat_v2\u001b[0m\u001b[0;34m(\u001b[0m\u001b[0mvalues\u001b[0m\u001b[0;34m=\u001b[0m\u001b[0mvalues\u001b[0m\u001b[0;34m,\u001b[0m \u001b[0maxis\u001b[0m\u001b[0;34m=\u001b[0m\u001b[0maxis\u001b[0m\u001b[0;34m,\u001b[0m \u001b[0mname\u001b[0m\u001b[0;34m=\u001b[0m\u001b[0mname\u001b[0m\u001b[0;34m)\u001b[0m\u001b[0;34m\u001b[0m\u001b[0;34m\u001b[0m\u001b[0m\n\u001b[0m\u001b[1;32m   1432\u001b[0m \u001b[0;34m\u001b[0m\u001b[0m\n\u001b[1;32m   1433\u001b[0m \u001b[0;34m\u001b[0m\u001b[0m\n",
      "\u001b[0;32m/usr/local/lib/python3.7/site-packages/tensorflow_core/python/ops/gen_array_ops.py\u001b[0m in \u001b[0;36mconcat_v2\u001b[0;34m(values, axis, name)\u001b[0m\n\u001b[1;32m   1239\u001b[0m       \u001b[0;32mtry\u001b[0m\u001b[0;34m:\u001b[0m\u001b[0;34m\u001b[0m\u001b[0;34m\u001b[0m\u001b[0m\n\u001b[1;32m   1240\u001b[0m         return concat_v2_eager_fallback(\n\u001b[0;32m-> 1241\u001b[0;31m             values, axis, name=name, ctx=_ctx)\n\u001b[0m\u001b[1;32m   1242\u001b[0m       \u001b[0;32mexcept\u001b[0m \u001b[0m_core\u001b[0m\u001b[0;34m.\u001b[0m\u001b[0m_SymbolicException\u001b[0m\u001b[0;34m:\u001b[0m\u001b[0;34m\u001b[0m\u001b[0;34m\u001b[0m\u001b[0m\n\u001b[1;32m   1243\u001b[0m         \u001b[0;32mpass\u001b[0m  \u001b[0;31m# Add nodes to the TensorFlow graph.\u001b[0m\u001b[0;34m\u001b[0m\u001b[0;34m\u001b[0m\u001b[0m\n",
      "\u001b[0;32m/usr/local/lib/python3.7/site-packages/tensorflow_core/python/ops/gen_array_ops.py\u001b[0m in \u001b[0;36mconcat_v2_eager_fallback\u001b[0;34m(values, axis, name, ctx)\u001b[0m\n\u001b[1;32m   1282\u001b[0m         \"'concat_v2' Op, not %r.\" % values)\n\u001b[1;32m   1283\u001b[0m   \u001b[0m_attr_N\u001b[0m \u001b[0;34m=\u001b[0m \u001b[0mlen\u001b[0m\u001b[0;34m(\u001b[0m\u001b[0mvalues\u001b[0m\u001b[0;34m)\u001b[0m\u001b[0;34m\u001b[0m\u001b[0;34m\u001b[0m\u001b[0m\n\u001b[0;32m-> 1284\u001b[0;31m   \u001b[0m_attr_T\u001b[0m\u001b[0;34m,\u001b[0m \u001b[0mvalues\u001b[0m \u001b[0;34m=\u001b[0m \u001b[0m_execute\u001b[0m\u001b[0;34m.\u001b[0m\u001b[0margs_to_matching_eager\u001b[0m\u001b[0;34m(\u001b[0m\u001b[0mlist\u001b[0m\u001b[0;34m(\u001b[0m\u001b[0mvalues\u001b[0m\u001b[0;34m)\u001b[0m\u001b[0;34m,\u001b[0m \u001b[0m_ctx\u001b[0m\u001b[0;34m)\u001b[0m\u001b[0;34m\u001b[0m\u001b[0;34m\u001b[0m\u001b[0m\n\u001b[0m\u001b[1;32m   1285\u001b[0m   \u001b[0m_attr_Tidx\u001b[0m\u001b[0;34m,\u001b[0m \u001b[0;34m(\u001b[0m\u001b[0maxis\u001b[0m\u001b[0;34m,\u001b[0m\u001b[0;34m)\u001b[0m \u001b[0;34m=\u001b[0m \u001b[0m_execute\u001b[0m\u001b[0;34m.\u001b[0m\u001b[0margs_to_matching_eager\u001b[0m\u001b[0;34m(\u001b[0m\u001b[0;34m[\u001b[0m\u001b[0maxis\u001b[0m\u001b[0;34m]\u001b[0m\u001b[0;34m,\u001b[0m \u001b[0m_ctx\u001b[0m\u001b[0;34m,\u001b[0m \u001b[0m_dtypes\u001b[0m\u001b[0;34m.\u001b[0m\u001b[0mint32\u001b[0m\u001b[0;34m)\u001b[0m\u001b[0;34m\u001b[0m\u001b[0;34m\u001b[0m\u001b[0m\n\u001b[1;32m   1286\u001b[0m   \u001b[0m_inputs_flat\u001b[0m \u001b[0;34m=\u001b[0m \u001b[0mlist\u001b[0m\u001b[0;34m(\u001b[0m\u001b[0mvalues\u001b[0m\u001b[0;34m)\u001b[0m \u001b[0;34m+\u001b[0m \u001b[0;34m[\u001b[0m\u001b[0maxis\u001b[0m\u001b[0;34m]\u001b[0m\u001b[0;34m\u001b[0m\u001b[0;34m\u001b[0m\u001b[0m\n",
      "\u001b[0;32m/usr/local/lib/python3.7/site-packages/tensorflow_core/python/eager/execute.py\u001b[0m in \u001b[0;36margs_to_matching_eager\u001b[0;34m(l, ctx, default_dtype)\u001b[0m\n\u001b[1;32m    255\u001b[0m       ret.append(\n\u001b[1;32m    256\u001b[0m           internal_convert_to_tensor(\n\u001b[0;32m--> 257\u001b[0;31m               t, dtype, preferred_dtype=default_dtype, ctx=ctx))\n\u001b[0m\u001b[1;32m    258\u001b[0m       \u001b[0;32mif\u001b[0m \u001b[0mdtype\u001b[0m \u001b[0;32mis\u001b[0m \u001b[0;32mNone\u001b[0m\u001b[0;34m:\u001b[0m\u001b[0;34m\u001b[0m\u001b[0;34m\u001b[0m\u001b[0m\n\u001b[1;32m    259\u001b[0m         \u001b[0mdtype\u001b[0m \u001b[0;34m=\u001b[0m \u001b[0mret\u001b[0m\u001b[0;34m[\u001b[0m\u001b[0;34m-\u001b[0m\u001b[0;36m1\u001b[0m\u001b[0;34m]\u001b[0m\u001b[0;34m.\u001b[0m\u001b[0mdtype\u001b[0m\u001b[0;34m\u001b[0m\u001b[0;34m\u001b[0m\u001b[0m\n",
      "\u001b[0;32m/usr/local/lib/python3.7/site-packages/tensorflow_core/python/framework/ops.py\u001b[0m in \u001b[0;36minternal_convert_to_tensor\u001b[0;34m(value, dtype, name, as_ref, preferred_dtype, ctx, accept_composite_tensors)\u001b[0m\n\u001b[1;32m   1294\u001b[0m \u001b[0;34m\u001b[0m\u001b[0m\n\u001b[1;32m   1295\u001b[0m     \u001b[0;32mif\u001b[0m \u001b[0mret\u001b[0m \u001b[0;32mis\u001b[0m \u001b[0;32mNone\u001b[0m\u001b[0;34m:\u001b[0m\u001b[0;34m\u001b[0m\u001b[0;34m\u001b[0m\u001b[0m\n\u001b[0;32m-> 1296\u001b[0;31m       \u001b[0mret\u001b[0m \u001b[0;34m=\u001b[0m \u001b[0mconversion_func\u001b[0m\u001b[0;34m(\u001b[0m\u001b[0mvalue\u001b[0m\u001b[0;34m,\u001b[0m \u001b[0mdtype\u001b[0m\u001b[0;34m=\u001b[0m\u001b[0mdtype\u001b[0m\u001b[0;34m,\u001b[0m \u001b[0mname\u001b[0m\u001b[0;34m=\u001b[0m\u001b[0mname\u001b[0m\u001b[0;34m,\u001b[0m \u001b[0mas_ref\u001b[0m\u001b[0;34m=\u001b[0m\u001b[0mas_ref\u001b[0m\u001b[0;34m)\u001b[0m\u001b[0;34m\u001b[0m\u001b[0;34m\u001b[0m\u001b[0m\n\u001b[0m\u001b[1;32m   1297\u001b[0m \u001b[0;34m\u001b[0m\u001b[0m\n\u001b[1;32m   1298\u001b[0m     \u001b[0;32mif\u001b[0m \u001b[0mret\u001b[0m \u001b[0;32mis\u001b[0m \u001b[0mNotImplemented\u001b[0m\u001b[0;34m:\u001b[0m\u001b[0;34m\u001b[0m\u001b[0;34m\u001b[0m\u001b[0m\n",
      "\u001b[0;32m/usr/local/lib/python3.7/site-packages/tensorflow_core/python/framework/constant_op.py\u001b[0m in \u001b[0;36m_constant_tensor_conversion_function\u001b[0;34m(v, dtype, name, as_ref)\u001b[0m\n\u001b[1;32m    284\u001b[0m                                          as_ref=False):\n\u001b[1;32m    285\u001b[0m   \u001b[0m_\u001b[0m \u001b[0;34m=\u001b[0m \u001b[0mas_ref\u001b[0m\u001b[0;34m\u001b[0m\u001b[0;34m\u001b[0m\u001b[0m\n\u001b[0;32m--> 286\u001b[0;31m   \u001b[0;32mreturn\u001b[0m \u001b[0mconstant\u001b[0m\u001b[0;34m(\u001b[0m\u001b[0mv\u001b[0m\u001b[0;34m,\u001b[0m \u001b[0mdtype\u001b[0m\u001b[0;34m=\u001b[0m\u001b[0mdtype\u001b[0m\u001b[0;34m,\u001b[0m \u001b[0mname\u001b[0m\u001b[0;34m=\u001b[0m\u001b[0mname\u001b[0m\u001b[0;34m)\u001b[0m\u001b[0;34m\u001b[0m\u001b[0;34m\u001b[0m\u001b[0m\n\u001b[0m\u001b[1;32m    287\u001b[0m \u001b[0;34m\u001b[0m\u001b[0m\n\u001b[1;32m    288\u001b[0m \u001b[0;34m\u001b[0m\u001b[0m\n",
      "\u001b[0;32m/usr/local/lib/python3.7/site-packages/tensorflow_core/python/framework/constant_op.py\u001b[0m in \u001b[0;36mconstant\u001b[0;34m(value, dtype, shape, name)\u001b[0m\n\u001b[1;32m    225\u001b[0m   \"\"\"\n\u001b[1;32m    226\u001b[0m   return _constant_impl(value, dtype, shape, name, verify_shape=False,\n\u001b[0;32m--> 227\u001b[0;31m                         allow_broadcast=True)\n\u001b[0m\u001b[1;32m    228\u001b[0m \u001b[0;34m\u001b[0m\u001b[0m\n\u001b[1;32m    229\u001b[0m \u001b[0;34m\u001b[0m\u001b[0m\n",
      "\u001b[0;32m/usr/local/lib/python3.7/site-packages/tensorflow_core/python/framework/constant_op.py\u001b[0m in \u001b[0;36m_constant_impl\u001b[0;34m(value, dtype, shape, name, verify_shape, allow_broadcast)\u001b[0m\n\u001b[1;32m    233\u001b[0m   \u001b[0mctx\u001b[0m \u001b[0;34m=\u001b[0m \u001b[0mcontext\u001b[0m\u001b[0;34m.\u001b[0m\u001b[0mcontext\u001b[0m\u001b[0;34m(\u001b[0m\u001b[0;34m)\u001b[0m\u001b[0;34m\u001b[0m\u001b[0;34m\u001b[0m\u001b[0m\n\u001b[1;32m    234\u001b[0m   \u001b[0;32mif\u001b[0m \u001b[0mctx\u001b[0m\u001b[0;34m.\u001b[0m\u001b[0mexecuting_eagerly\u001b[0m\u001b[0;34m(\u001b[0m\u001b[0;34m)\u001b[0m\u001b[0;34m:\u001b[0m\u001b[0;34m\u001b[0m\u001b[0;34m\u001b[0m\u001b[0m\n\u001b[0;32m--> 235\u001b[0;31m     \u001b[0mt\u001b[0m \u001b[0;34m=\u001b[0m \u001b[0mconvert_to_eager_tensor\u001b[0m\u001b[0;34m(\u001b[0m\u001b[0mvalue\u001b[0m\u001b[0;34m,\u001b[0m \u001b[0mctx\u001b[0m\u001b[0;34m,\u001b[0m \u001b[0mdtype\u001b[0m\u001b[0;34m)\u001b[0m\u001b[0;34m\u001b[0m\u001b[0;34m\u001b[0m\u001b[0m\n\u001b[0m\u001b[1;32m    236\u001b[0m     \u001b[0;32mif\u001b[0m \u001b[0mshape\u001b[0m \u001b[0;32mis\u001b[0m \u001b[0;32mNone\u001b[0m\u001b[0;34m:\u001b[0m\u001b[0;34m\u001b[0m\u001b[0;34m\u001b[0m\u001b[0m\n\u001b[1;32m    237\u001b[0m       \u001b[0;32mreturn\u001b[0m \u001b[0mt\u001b[0m\u001b[0;34m\u001b[0m\u001b[0;34m\u001b[0m\u001b[0m\n",
      "\u001b[0;32m/usr/local/lib/python3.7/site-packages/tensorflow_core/python/framework/constant_op.py\u001b[0m in \u001b[0;36mconvert_to_eager_tensor\u001b[0;34m(value, ctx, dtype)\u001b[0m\n\u001b[1;32m     94\u001b[0m       \u001b[0mdtype\u001b[0m \u001b[0;34m=\u001b[0m \u001b[0mdtypes\u001b[0m\u001b[0;34m.\u001b[0m\u001b[0mas_dtype\u001b[0m\u001b[0;34m(\u001b[0m\u001b[0mdtype\u001b[0m\u001b[0;34m)\u001b[0m\u001b[0;34m.\u001b[0m\u001b[0mas_datatype_enum\u001b[0m\u001b[0;34m\u001b[0m\u001b[0;34m\u001b[0m\u001b[0m\n\u001b[1;32m     95\u001b[0m   \u001b[0mctx\u001b[0m\u001b[0;34m.\u001b[0m\u001b[0mensure_initialized\u001b[0m\u001b[0;34m(\u001b[0m\u001b[0;34m)\u001b[0m\u001b[0;34m\u001b[0m\u001b[0;34m\u001b[0m\u001b[0m\n\u001b[0;32m---> 96\u001b[0;31m   \u001b[0;32mreturn\u001b[0m \u001b[0mops\u001b[0m\u001b[0;34m.\u001b[0m\u001b[0mEagerTensor\u001b[0m\u001b[0;34m(\u001b[0m\u001b[0mvalue\u001b[0m\u001b[0;34m,\u001b[0m \u001b[0mctx\u001b[0m\u001b[0;34m.\u001b[0m\u001b[0mdevice_name\u001b[0m\u001b[0;34m,\u001b[0m \u001b[0mdtype\u001b[0m\u001b[0;34m)\u001b[0m\u001b[0;34m\u001b[0m\u001b[0;34m\u001b[0m\u001b[0m\n\u001b[0m\u001b[1;32m     97\u001b[0m \u001b[0;34m\u001b[0m\u001b[0m\n\u001b[1;32m     98\u001b[0m \u001b[0;34m\u001b[0m\u001b[0m\n",
      "\u001b[0;31mValueError\u001b[0m: Attempt to convert a value (<tensorflow.python.keras.layers.core.Dense object at 0x137d42898>) with an unsupported type (<class 'tensorflow.python.keras.layers.core.Dense'>) to a Tensor."
     ]
    }
   ],
   "source": [
    "output_size = train_d.shape[1]\n",
    "#output_size = 1\n",
    "print(output_size)\n",
    "inner_layers = tf.keras.models.Sequential([\n",
    "  #tf.keras.layers.Lambda(lambda x: tf.expand_dims(x, axis=-1), input_shape=[None]), #if the input is one stock\n",
    "  tf.keras.layers.Lambda(layer_normalize, arguments={'factors': normalization_factors, 'denorm' : False}),\n",
    "  #tf.keras.layers.Conv1D(128, kernel_size = 3, input_shape = (batch_size, window_size, None)),\n",
    "  #tf.keras.layers.AveragePooling1D(),\n",
    "  #tf.keras.layers.Conv1D(256, kernel_size = 3),\n",
    "  #tf.keras.layers.AveragePooling1D(),\n",
    "  #tf.keras.layers.Conv1D(256, kernel_size = 1),\n",
    "  #tf.keras.layers.AveragePooling1D(),\n",
    "  #tf.keras.layers.Conv1D(256, kernel_size = 1, activation = 'relu'),\n",
    "  #tf.keras.layers.AveragePooling1D(),\n",
    "  #tf.keras.layers.GRU(512, return_sequences=True),\n",
    "  #tf.keras.layers.Dropout(0.5),\n",
    "  #tf.keras.layers.GRU(256, return_sequences=True),\n",
    "  #tf.keras.layers.GRU(256, return_sequences=True),\n",
    "  #tf.keras.layers.GRU(256, return_sequences=True),\n",
    "  #tf.keras.layers.GRU(256),\n",
    "  #tf.keras.layers.SimpleRNN(128, return_sequences=True),\n",
    "  #tf.keras.layers.SimpleRNN(256, return_sequences=True),\n",
    "  #tf.keras.layers.SimpleRNN(512, return_sequences=True),\n",
    "  #tf.keras.layers.SimpleRNN(256, return_sequences=True),\n",
    "  #tf.keras.layers.SimpleRNN(128),\n",
    "  tf.keras.layers.LSTM(128, return_sequences=True),\n",
    "  tf.keras.layers.LSTM(256, return_sequences=True),\n",
    "  #tf.keras.layers.Dropout(0.5),\n",
    "  tf.keras.layers.LSTM(256, return_sequences=True),\n",
    "  tf.keras.layers.LSTM(128),\n",
    "  #tf.keras.layers.Dropout(0.5),\n",
    "  #tf.keras.layers.LSTM(256, return_sequences=True),\n",
    "  #tf.keras.layers.Dropout(0.5),\n",
    "  #tf.keras.layers.LSTM(256, return_sequences=True, activation = 'relu'),\n",
    "  #tf.keras.layers.Dropout(0.5),\n",
    "  #tf.keras.layers.LSTM(256, return_sequences=True, activation = 'relu'),\n",
    "  #tf.keras.layers.Dropout(0.5),\n",
    "  #tf.keras.layers.LSTM(256, return_sequences=True, activation = 'relu'),\n",
    "  #tf.keras.layers.Dropout(0.5),\n",
    "  #tf.keras.layers.LSTM(256, return_sequences=True, activation = 'relu'),\n",
    "  #tf.keras.layers.LSTM(256, return_sequences=True, activation = 'relu'),\n",
    "  #tf.keras.layers.LSTM(256, return_sequences=True, activation = 'relu'),\n",
    "  #tf.keras.layers.Dropout(0.5),\n",
    "  #tf.keras.layers.LSTM(256, return_sequences=True, activation = 'relu'),\n",
    "  #tf.keras.layers.LSTM(256, return_sequences=True, activation = 'relu'),\n",
    "  #tf.keras.layers.LSTM(256, activation = 'tanh', return_sequences=True),\n",
    "  #tf.keras.layers.LSTM(128),\n",
    "  #tf.keras.layers.SimpleRNN(64, return_sequences = True),\n",
    "  #tf.keras.layers.SimpleRNN(128, return_sequences = True),\n",
    "  #tf.keras.layers.SimpleRNN(256),\n",
    "#  tf.keras.layers.Dense(output_size, activation = 'elu'),\n",
    "  #tf.keras.layers.Lambda(lambda x: x + 1),\n",
    "#  tf.keras.layers.Lambda(layer_normalize, arguments={'factors': normalization_factors, 'denorm' : True})\n",
    "])\n",
    "\n",
    "sigmoid_out = tf.keras.layers.Dense(units=1, activation=tf.nn.sigmoid)\n",
    "relu_out = tf.keras.layers.Dense(units=1, activation=tf.nn.relu)\n",
    "out = tf.concat([sigmoid_out, relu_out], axis=1)\n",
    "inner_layers.add(out)\n",
    "\n",
    "denorm_layer = tf.keras.layers.Lambda(layer_normalize, arguments={'factors': normalization_factors, 'denorm' : True})\n",
    "\n",
    "inner_layers.add(denorm_layer)\n",
    "model = inner_layers\n",
    "\n",
    "lr_schedule = tf.keras.callbacks.LearningRateScheduler(\n",
    "    lambda epoch: 1e-2 * 10**(epoch / 20))\n",
    "#optimizer = tf.keras.optimizers.SGD(lr=1e-8, momentum=0.9)\n",
    "#optimizer = tf.keras.optimizers.SGD(lr=1e-7, momentum=0.9)\n",
    "#optimizer = tf.keras.optimizers.SGD(lr=1e-10, momentum = 0.9, clipnorm = 2)\n",
    "optimizer = tf.keras.optimizers.Adam()\n",
    "#optimizer = tf.keras.optimizers.RMSprop()\n",
    "model.compile(loss=tf.keras.losses.Huber(),\n",
    "              #loss = 'mse',\n",
    "              optimizer=optimizer,\n",
    "              #optimizer = 'Adam',\n",
    "              metrics = ['mae']\n",
    "             )\n",
    "#model.build(input_shape = (batch_size, window_size, None))\n",
    "#model.summary()\n",
    "#history = model.fit(df, epochs=2, callbacks = [lr_schedule])\n",
    "history = model.fit(train_df, epochs=10, validation_data = valid_df)#, callbacks = [lr_schedule])"
   ]
  },
  {
   "cell_type": "code",
   "execution_count": 47,
   "metadata": {},
   "outputs": [
    {
     "data": {
      "text/html": [
       "<div>\n",
       "<style scoped>\n",
       "    .dataframe tbody tr th:only-of-type {\n",
       "        vertical-align: middle;\n",
       "    }\n",
       "\n",
       "    .dataframe tbody tr th {\n",
       "        vertical-align: top;\n",
       "    }\n",
       "\n",
       "    .dataframe thead th {\n",
       "        text-align: right;\n",
       "    }\n",
       "</style>\n",
       "<table border=\"1\" class=\"dataframe\">\n",
       "  <thead>\n",
       "    <tr style=\"text-align: right;\">\n",
       "      <th></th>\n",
       "      <th>A</th>\n",
       "    </tr>\n",
       "  </thead>\n",
       "  <tbody>\n",
       "    <tr>\n",
       "      <th>count</th>\n",
       "      <td>350.000000</td>\n",
       "    </tr>\n",
       "    <tr>\n",
       "      <th>mean</th>\n",
       "      <td>36.926943</td>\n",
       "    </tr>\n",
       "    <tr>\n",
       "      <th>std</th>\n",
       "      <td>10.391520</td>\n",
       "    </tr>\n",
       "    <tr>\n",
       "      <th>min</th>\n",
       "      <td>20.330000</td>\n",
       "    </tr>\n",
       "    <tr>\n",
       "      <th>25%</th>\n",
       "      <td>28.770000</td>\n",
       "    </tr>\n",
       "    <tr>\n",
       "      <th>50%</th>\n",
       "      <td>36.630000</td>\n",
       "    </tr>\n",
       "    <tr>\n",
       "      <th>75%</th>\n",
       "      <td>40.460000</td>\n",
       "    </tr>\n",
       "    <tr>\n",
       "      <th>max</th>\n",
       "      <td>67.620000</td>\n",
       "    </tr>\n",
       "  </tbody>\n",
       "</table>\n",
       "</div>"
      ],
      "text/plain": [
       "                A\n",
       "count  350.000000\n",
       "mean    36.926943\n",
       "std     10.391520\n",
       "min     20.330000\n",
       "25%     28.770000\n",
       "50%     36.630000\n",
       "75%     40.460000\n",
       "max     67.620000"
      ]
     },
     "execution_count": 47,
     "metadata": {},
     "output_type": "execute_result"
    }
   ],
   "source": [
    "d.to_numpy()[50:55, :8]\n",
    "train_d.describe()"
   ]
  },
  {
   "cell_type": "code",
   "execution_count": 48,
   "metadata": {},
   "outputs": [
    {
     "name": "stdout",
     "output_type": "stream",
     "text": [
      "(456, 1)\n",
      "(320, 1)\n"
     ]
    },
    {
     "data": {
      "text/html": [
       "<div>\n",
       "<style scoped>\n",
       "    .dataframe tbody tr th:only-of-type {\n",
       "        vertical-align: middle;\n",
       "    }\n",
       "\n",
       "    .dataframe tbody tr th {\n",
       "        vertical-align: top;\n",
       "    }\n",
       "\n",
       "    .dataframe thead th {\n",
       "        text-align: right;\n",
       "    }\n",
       "</style>\n",
       "<table border=\"1\" class=\"dataframe\">\n",
       "  <thead>\n",
       "    <tr style=\"text-align: right;\">\n",
       "      <th></th>\n",
       "      <th>0</th>\n",
       "    </tr>\n",
       "  </thead>\n",
       "  <tbody>\n",
       "    <tr>\n",
       "      <th>count</th>\n",
       "      <td>320.000000</td>\n",
       "    </tr>\n",
       "    <tr>\n",
       "      <th>mean</th>\n",
       "      <td>37.138153</td>\n",
       "    </tr>\n",
       "    <tr>\n",
       "      <th>std</th>\n",
       "      <td>10.294842</td>\n",
       "    </tr>\n",
       "    <tr>\n",
       "      <th>min</th>\n",
       "      <td>22.992464</td>\n",
       "    </tr>\n",
       "    <tr>\n",
       "      <th>25%</th>\n",
       "      <td>28.061047</td>\n",
       "    </tr>\n",
       "    <tr>\n",
       "      <th>50%</th>\n",
       "      <td>37.789833</td>\n",
       "    </tr>\n",
       "    <tr>\n",
       "      <th>75%</th>\n",
       "      <td>40.328719</td>\n",
       "    </tr>\n",
       "    <tr>\n",
       "      <th>max</th>\n",
       "      <td>68.559135</td>\n",
       "    </tr>\n",
       "  </tbody>\n",
       "</table>\n",
       "</div>"
      ],
      "text/plain": [
       "                0\n",
       "count  320.000000\n",
       "mean    37.138153\n",
       "std     10.294842\n",
       "min     22.992464\n",
       "25%     28.061047\n",
       "50%     37.789833\n",
       "75%     40.328719\n",
       "max     68.559135"
      ]
     },
     "execution_count": 48,
     "metadata": {},
     "output_type": "execute_result"
    }
   ],
   "source": [
    "#p = model.predict(np.array(d['MSFT']).reshape((len(d['MSFT']), 1)))\n",
    "p = model.predict(train_df)\n",
    "#p = p.reshape((1480, 4165))\n",
    "print(d.shape)\n",
    "print(p.shape)\n",
    "p = pd.DataFrame(p)\n",
    "p2 = p #* d.max(axis = 0).reset_index(drop = True)\n",
    "p2.describe()"
   ]
  },
  {
   "cell_type": "code",
   "execution_count": 49,
   "metadata": {},
   "outputs": [
    {
     "name": "stdout",
     "output_type": "stream",
     "text": [
      "(456, 1)\n",
      "(320, 1)\n",
      "                0\n",
      "count  320.000000\n",
      "mean    53.647156\n",
      "std     17.604563\n",
      "min     29.650517\n",
      "25%     38.942946\n",
      "50%     45.921932\n",
      "75%     72.340284\n",
      "max     86.852776\n"
     ]
    }
   ],
   "source": [
    "p = model.predict(valid_df)\n",
    "#p = p.reshape((1480, 4165))\n",
    "print(d.shape)\n",
    "print(p.shape)\n",
    "p = pd.DataFrame(p) #* d.max(axis = 0).reset_index(drop = True)\n",
    "print(p.describe())"
   ]
  },
  {
   "cell_type": "code",
   "execution_count": null,
   "metadata": {},
   "outputs": [],
   "source": [
    "print(valid_d.describe())\n",
    "print(train_d.describe())"
   ]
  },
  {
   "cell_type": "code",
   "execution_count": null,
   "metadata": {},
   "outputs": [],
   "source": [
    "valid_d.tail()"
   ]
  },
  {
   "cell_type": "code",
   "execution_count": null,
   "metadata": {},
   "outputs": [],
   "source": [
    "p2 = model.predict(df)\n",
    "pd.DataFrame(p2).describe()"
   ]
  },
  {
   "cell_type": "code",
   "execution_count": null,
   "metadata": {},
   "outputs": [],
   "source": [
    "plt.semilogx(history.history[\"lr\"], history.history[\"loss\"])\n",
    "plt.axis([1e-8, 1e-1, 130000, 170000])"
   ]
  },
  {
   "cell_type": "code",
   "execution_count": null,
   "metadata": {},
   "outputs": [],
   "source": [
    "np.where(d.columns.values == \"MSFT\")"
   ]
  },
  {
   "cell_type": "code",
   "execution_count": null,
   "metadata": {},
   "outputs": [],
   "source": [
    "p[:, 2572].max()"
   ]
  },
  {
   "cell_type": "code",
   "execution_count": null,
   "metadata": {},
   "outputs": [],
   "source": [
    "t.tickers[0].info"
   ]
  },
  {
   "cell_type": "code",
   "execution_count": null,
   "metadata": {},
   "outputs": [],
   "source": [
    "t = yf.Tickers(' '.join(list(tickers.keys())))"
   ]
  },
  {
   "cell_type": "code",
   "execution_count": null,
   "metadata": {},
   "outputs": [],
   "source": [
    "#df = t.history(period=\"9y\", interval = '1d')\n",
    "?Tickers.history"
   ]
  },
  {
   "cell_type": "code",
   "execution_count": null,
   "metadata": {},
   "outputs": [],
   "source": [
    "yf.Tickers.history"
   ]
  },
  {
   "cell_type": "code",
   "execution_count": null,
   "metadata": {},
   "outputs": [],
   "source": [
    "t.history(period=\"9y\", interval = '1d', 'Open')"
   ]
  },
  {
   "cell_type": "code",
   "execution_count": null,
   "metadata": {},
   "outputs": [],
   "source": []
  },
  {
   "cell_type": "code",
   "execution_count": null,
   "metadata": {},
   "outputs": [],
   "source": []
  }
 ],
 "metadata": {
  "kernelspec": {
   "display_name": "Python 3",
   "language": "python",
   "name": "python3"
  },
  "language_info": {
   "codemirror_mode": {
    "name": "ipython",
    "version": 3
   },
   "file_extension": ".py",
   "mimetype": "text/x-python",
   "name": "python",
   "nbconvert_exporter": "python",
   "pygments_lexer": "ipython3",
   "version": "3.7.1"
  }
 },
 "nbformat": 4,
 "nbformat_minor": 2
}
