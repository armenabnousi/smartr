{
 "cells": [
  {
   "cell_type": "markdown",
   "metadata": {},
   "source": [
    "## This page is under development..."
   ]
  },
  {
   "cell_type": "markdown",
   "metadata": {},
   "source": [
    "I'm using yfinance package to download the stock data from yahoo finance. Then I will try predicting the prices for each stock. My goal is to make a prediction on the expected value and variance of the price based on the previous values. Then I'll try to compute the experimental covarience between different stocks and input them to an optimization problem designed to reduce the mixed variance while maximizing the expected output. This is based on the mean-volatility predicate in financial analysis.  \n",
    "My initial intention was to use the rather new *tensorflow probability* capability to estimate the mean a variance for each output point. After some trials and failings, I have decided to use a simpler approach:\n",
    " - Use a small Nueral Net to compute a predicted value for the next days opening price for each stock.\n",
    " - Assume that my predictor assumes a normal distribution around the observed values (I should check this!). Therefore I can use the unbiased estimator of SD to find the expected variance around my predicted price.\n",
    " - Compute the correlations between different stocks experimentally\n",
    " - perform the optimization as before."
   ]
  },
  {
   "cell_type": "code",
   "execution_count": 1,
   "metadata": {},
   "outputs": [],
   "source": [
    "import yfinance as yf\n",
    "import pandas as pd\n",
    "import tensorflow as tf\n",
    "import pickle\n",
    "import numpy as np\n",
    "#import mdn\n",
    "import tensorflow_probability as tfp\n",
    "import matplotlib.pyplot as plt"
   ]
  },
  {
   "cell_type": "code",
   "execution_count": null,
   "metadata": {},
   "outputs": [],
   "source": [
    "#msft = yf.Ticker(\"MSFT\")\n",
    "#temp_hist = msft.history(period=\"9y\", interval=\"1d\")"
   ]
  },
  {
   "cell_type": "markdown",
   "metadata": {},
   "source": [
    "If running for first time, you need to downloaded the stock symbols or \"tickers\". This is in done by setting parameter  \"get_tickers\".<br> Currently I'm downloading the daily data for 9years. If you already have downloaded some part of the data you can download the rest and append them to each other. Later I hope to automatize this section, since my goal is to run this script once weekly or so."
   ]
  },
  {
   "cell_type": "code",
   "execution_count": null,
   "metadata": {},
   "outputs": [],
   "source": [
    "get_tickers = False \n",
    "get_histories = False"
   ]
  },
  {
   "cell_type": "code",
   "execution_count": null,
   "metadata": {},
   "outputs": [],
   "source": [
    "if get_tickers:\n",
    "    !curl -o /Users/abnousa/software/smartop/nasdaqtraded_companylist.txt ftp://ftp.nasdaqtrader.com/symboldirectory/nasdaqtraded.txt\n",
    "    symbols = pd.read_csv(\"/Users/abnousa/software/smartop/nasdaqtraded_companylist.txt\", sep = \"|\")\n",
    "    symbols = symbols.iloc[0:(symbols.shape[0] - 1),:] #last row is time\n",
    "    tickers = {}\n",
    "    failed = []\n",
    "    for i in symbols.index:\n",
    "        sym = symbols.iloc[i]['Symbol']\n",
    "        ticker = yf.Ticker(sym)\n",
    "        try:\n",
    "            check = ticker.calendar\n",
    "        except Exception as e:\n",
    "            print(' '.join([\"disregarding\", sym, type(e).__name__]))\n",
    "            failed.append(sym)\n",
    "            continue\n",
    "        print(' '.join([sym, 'added']))\n",
    "        name = symbols.iloc[i]['Security Name']\n",
    "        tickers[sym] = {'name': name, 'ticker': ticker}\n",
    "    sym_data = {'tickers':tickers, 'failed':failed}\n",
    "    with open('sym_data.pkl', 'wb') as symfile:\n",
    "        pickle.dump(sym_data, symfile)"
   ]
  },
  {
   "cell_type": "code",
   "execution_count": null,
   "metadata": {},
   "outputs": [],
   "source": [
    "with open('sym_data.pkl', 'rb') as symfile:\n",
    "    sym_data = pickle.load(symfile)\n",
    "    tickers, failed = sym_data['tickers'], sym_data['failed']"
   ]
  },
  {
   "cell_type": "code",
   "execution_count": null,
   "metadata": {},
   "outputs": [],
   "source": [
    "if get_histories:\n",
    "    msft = yf.Ticker(\"MSFT\")\n",
    "    temp_hist = msft.history(period=\"9y\", interval=\"1d\")\n",
    "    d = pd.DataFrame(data = 0, columns = list(tickers.keys()), index = temp_hist.index)\n",
    "    for i in d.columns:\n",
    "        print(i)\n",
    "        hist = tickers[i]['ticker'].history(start = list(temp_hist.index)[0], end = list(temp_hist.index)[-1], interval = \"1d\")['Open']\n",
    "        d[i] = hist\n",
    "    with open(\"daily_history_9y.pkl\", 'wb') as histfile:\n",
    "        pickle.dump(d, histfile)"
   ]
  },
  {
   "cell_type": "code",
   "execution_count": 2,
   "metadata": {},
   "outputs": [],
   "source": [
    "with open(\"daily_history_9y.pkl\", 'rb') as infile:\n",
    "    d = pickle.load(infile)"
   ]
  },
  {
   "cell_type": "markdown",
   "metadata": {},
   "source": [
    "Some of the stock data have a lot of missing points over the past 9 years. This might be because they were founded later or had their IPO sometime during this time-period. Below I take a look at the number of stocks with various numbers of missing points and filter the data to the ones with less than 20 NA's. I will impute the missing points by \"backward filling\"."
   ]
  },
  {
   "cell_type": "code",
   "execution_count": null,
   "metadata": {},
   "outputs": [],
   "source": [
    "plt.hist(d.isna().sum(), bins = 100)"
   ]
  },
  {
   "cell_type": "code",
   "execution_count": 3,
   "metadata": {},
   "outputs": [
    {
     "data": {
      "text/plain": [
       "(2264, 4165)"
      ]
     },
     "execution_count": 3,
     "metadata": {},
     "output_type": "execute_result"
    }
   ],
   "source": [
    "d = d.iloc[:, list(np.where(d.isna().sum() < 20)[0])]\n",
    "d = d.fillna(method = \"bfill\")\n",
    "d.shape"
   ]
  },
  {
   "cell_type": "markdown",
   "metadata": {},
   "source": [
    "Alright, now we have the data and for each stock we can take a look at their trend. Change the *ticker_name* below and have a look at the plot. I'm plotting the Microsoft stock prices from some day in December 2012 up to December 2019."
   ]
  },
  {
   "cell_type": "code",
   "execution_count": null,
   "metadata": {},
   "outputs": [],
   "source": [
    "ticker_name = \"MSFT\"\n",
    "import matplotlib.pyplot as plt\n",
    "plt.plot(d[ticker_name])"
   ]
  },
  {
   "cell_type": "code",
   "execution_count": 4,
   "metadata": {},
   "outputs": [],
   "source": [
    "# this function is copied exactly from the deeplearning.ai course on time-series analysis on coursera!\n",
    "def windowed_dataset(series, window_size, batch_size, shuffle_buffer, shuffle = True):\n",
    "    dataset = tf.data.Dataset.from_tensor_slices(series)\n",
    "    dataset = dataset.window(window_size + 1, shift=1, drop_remainder=True)\n",
    "    dataset = dataset.flat_map(lambda window: window.batch(window_size + 1))\n",
    "    #dataset = dataset.map(lambda window: (window[:-1], window[-1]))\n",
    "    if shuffle:\n",
    "        dataset = dataset.shuffle(shuffle_buffer).map(lambda window: (tf.expand_dims(window[:-1], axis = -1), window[-1]))\n",
    "        #dataset = dataset.map(lambda window: (window[0].reshape((len(window[0], 1))), window[1]))\n",
    "    else:\n",
    "        dataset = dataset.map(lambda window: (tf.expand_dims(window[:-1], axis = -1), window[-1]))\n",
    "        #dataset = dataset.map(lambda window: (window[:-1], window[-1]))\n",
    "    dataset = dataset.batch(batch_size).prefetch(1)\n",
    "    return dataset"
   ]
  },
  {
   "cell_type": "code",
   "execution_count": 5,
   "metadata": {},
   "outputs": [],
   "source": [
    "stock_names = [\"MSFT\"]\n",
    "weekly = False"
   ]
  },
  {
   "cell_type": "code",
   "execution_count": 6,
   "metadata": {},
   "outputs": [
    {
     "data": {
      "text/html": [
       "<div>\n",
       "<style scoped>\n",
       "    .dataframe tbody tr th:only-of-type {\n",
       "        vertical-align: middle;\n",
       "    }\n",
       "\n",
       "    .dataframe tbody tr th {\n",
       "        vertical-align: top;\n",
       "    }\n",
       "\n",
       "    .dataframe thead th {\n",
       "        text-align: right;\n",
       "    }\n",
       "</style>\n",
       "<table border=\"1\" class=\"dataframe\">\n",
       "  <thead>\n",
       "    <tr style=\"text-align: right;\">\n",
       "      <th></th>\n",
       "      <th>MSFT</th>\n",
       "    </tr>\n",
       "  </thead>\n",
       "  <tbody>\n",
       "    <tr>\n",
       "      <th>count</th>\n",
       "      <td>2264.000000</td>\n",
       "    </tr>\n",
       "    <tr>\n",
       "      <th>mean</th>\n",
       "      <td>55.560367</td>\n",
       "    </tr>\n",
       "    <tr>\n",
       "      <th>std</th>\n",
       "      <td>35.131597</td>\n",
       "    </tr>\n",
       "    <tr>\n",
       "      <th>min</th>\n",
       "      <td>19.320000</td>\n",
       "    </tr>\n",
       "    <tr>\n",
       "      <th>25%</th>\n",
       "      <td>26.642500</td>\n",
       "    </tr>\n",
       "    <tr>\n",
       "      <th>50%</th>\n",
       "      <td>42.530000</td>\n",
       "    </tr>\n",
       "    <tr>\n",
       "      <th>75%</th>\n",
       "      <td>72.010000</td>\n",
       "    </tr>\n",
       "    <tr>\n",
       "      <th>max</th>\n",
       "      <td>157.350000</td>\n",
       "    </tr>\n",
       "  </tbody>\n",
       "</table>\n",
       "</div>"
      ],
      "text/plain": [
       "              MSFT\n",
       "count  2264.000000\n",
       "mean     55.560367\n",
       "std      35.131597\n",
       "min      19.320000\n",
       "25%      26.642500\n",
       "50%      42.530000\n",
       "75%      72.010000\n",
       "max     157.350000"
      ]
     },
     "execution_count": 6,
     "metadata": {},
     "output_type": "execute_result"
    }
   ],
   "source": [
    "#d = d.iloc[:, :1]#:int(d.shape[1]/2)]\n",
    "d = d.loc[:,stock_names]\n",
    "d.describe()"
   ]
  },
  {
   "cell_type": "code",
   "execution_count": 7,
   "metadata": {},
   "outputs": [],
   "source": [
    "if weekly:\n",
    "    d.reset_index(drop = False, inplace = True)\n",
    "    d['weekday'] = d['Date'].dt.day_name()\n",
    "    d = d[d['weekday'] == \"Friday\"]\n",
    "    d.drop(['Date', 'weekday'], axis = 1, inplace = True)\n",
    "    print(d.shape)\n",
    "    print(d.head())\n",
    "    d.reset_index(drop = True, inplace = True)"
   ]
  },
  {
   "cell_type": "code",
   "execution_count": 8,
   "metadata": {},
   "outputs": [
    {
     "data": {
      "text/html": [
       "<div>\n",
       "<style scoped>\n",
       "    .dataframe tbody tr th:only-of-type {\n",
       "        vertical-align: middle;\n",
       "    }\n",
       "\n",
       "    .dataframe tbody tr th {\n",
       "        vertical-align: top;\n",
       "    }\n",
       "\n",
       "    .dataframe thead th {\n",
       "        text-align: right;\n",
       "    }\n",
       "</style>\n",
       "<table border=\"1\" class=\"dataframe\">\n",
       "  <thead>\n",
       "    <tr style=\"text-align: right;\">\n",
       "      <th></th>\n",
       "      <th>MSFT</th>\n",
       "    </tr>\n",
       "    <tr>\n",
       "      <th>Date</th>\n",
       "      <th></th>\n",
       "    </tr>\n",
       "  </thead>\n",
       "  <tbody>\n",
       "    <tr>\n",
       "      <th>2010-12-23</th>\n",
       "      <td>22.47</td>\n",
       "    </tr>\n",
       "    <tr>\n",
       "      <th>2010-12-27</th>\n",
       "      <td>22.59</td>\n",
       "    </tr>\n",
       "    <tr>\n",
       "      <th>2010-12-28</th>\n",
       "      <td>22.47</td>\n",
       "    </tr>\n",
       "    <tr>\n",
       "      <th>2010-12-29</th>\n",
       "      <td>22.45</td>\n",
       "    </tr>\n",
       "    <tr>\n",
       "      <th>2010-12-30</th>\n",
       "      <td>22.43</td>\n",
       "    </tr>\n",
       "  </tbody>\n",
       "</table>\n",
       "</div>"
      ],
      "text/plain": [
       "             MSFT\n",
       "Date             \n",
       "2010-12-23  22.47\n",
       "2010-12-27  22.59\n",
       "2010-12-28  22.47\n",
       "2010-12-29  22.45\n",
       "2010-12-30  22.43"
      ]
     },
     "execution_count": 8,
     "metadata": {},
     "output_type": "execute_result"
    }
   ],
   "source": [
    "d.head()"
   ]
  },
  {
   "cell_type": "code",
   "execution_count": 9,
   "metadata": {},
   "outputs": [
    {
     "data": {
      "text/plain": [
       "[<matplotlib.lines.Line2D at 0x13baac1d0>]"
      ]
     },
     "execution_count": 9,
     "metadata": {},
     "output_type": "execute_result"
    },
    {
     "data": {
      "image/png": "[encoded data removed]",
      "text/plain": [
       "<Figure size 432x288 with 1 Axes>"
      ]
     },
     "metadata": {
      "needs_background": "light"
     },
     "output_type": "display_data"
    }
   ],
   "source": [
    "p = d.reset_index(drop = True)\n",
    "plt.plot(p[stock_names])"
   ]
  },
  {
   "cell_type": "code",
   "execution_count": 10,
   "metadata": {},
   "outputs": [],
   "source": [
    "window_size = 30\n",
    "batch_size = 32\n",
    "shuffle_buffer = 100000\n",
    "training_points = 350 if weekly else 1500"
   ]
  },
  {
   "cell_type": "code",
   "execution_count": 11,
   "metadata": {},
   "outputs": [],
   "source": [
    "#d = d / train_d.max(axis = 0)\n",
    "train_d = d.iloc[:training_points, :]\n",
    "valid_d = d.iloc[training_points:, :]\n",
    "train_df = windowed_dataset(train_d.to_numpy().reshape((len(train_d,))), window_size, batch_size, shuffle_buffer)\n",
    "normalization_factors = train_d.max()\n",
    "valid_df = windowed_dataset(valid_d.to_numpy().reshape((len(valid_d,))), window_size, batch_size, shuffle_buffer, shuffle = False)"
   ]
  },
  {
   "cell_type": "code",
   "execution_count": 12,
   "metadata": {},
   "outputs": [
    {
     "data": {
      "text/plain": [
       "<PrefetchDataset shapes: ((None, None, 1), (None,)), types: (tf.float64, tf.float64)>"
      ]
     },
     "execution_count": 12,
     "metadata": {},
     "output_type": "execute_result"
    }
   ],
   "source": [
    "train_df\n",
    "valid_df"
   ]
  },
  {
   "cell_type": "code",
   "execution_count": null,
   "metadata": {},
   "outputs": [],
   "source": [
    "#td = windowed_dataset(np.array(train_d['MSFT']), window_size, batch_size, shuffle_buffer)\n",
    "#td"
   ]
  },
  {
   "cell_type": "code",
   "execution_count": null,
   "metadata": {},
   "outputs": [],
   "source": [
    "#train_y = train_d[30:]\n",
    "#train_y.shape\n",
    "train_d['MSFT'].shape\n",
    "train_d.shape"
   ]
  },
  {
   "cell_type": "code",
   "execution_count": null,
   "metadata": {},
   "outputs": [],
   "source": [
    "train_d.describe()\n",
    "valid_d.describe()"
   ]
  },
  {
   "cell_type": "code",
   "execution_count": 13,
   "metadata": {},
   "outputs": [],
   "source": [
    "def layer_normalize(x, factors = None, denorm = False, input_mean = None, input_std = None):\n",
    "    if factors is None:\n",
    "        factors = tf.reduce_max(x, axis = 0, keepdims = False)\n",
    "        #tf.print(factors)\n",
    "        tf.print(\"pre mod shape of x\")\n",
    "        tf.print(tf.shape(x))\n",
    "        tf.print(\"shape of factors\")\n",
    "        tf.print(tf.shape(factors))\n",
    "    input_mean = tf.math.reduce_mean(x, axis = 0)\n",
    "    input_std = tf.keras.backend.std(x)\n",
    "    if denorm:\n",
    "        #x += 1\n",
    "        factors = 1. / factors\n",
    "    x /= factors\n",
    "    '''\n",
    "    if not denorm:\n",
    "        if len(x.get_shape()) == 3:\n",
    "            #tf.print('mean', input_mean)\n",
    "            #tf.print('std')\n",
    "            #tf.print('std', input_std)\n",
    "            #tf.print('oldx')\n",
    "            #tf.print('shape',x.get_shape())\n",
    "            #tf.print(x)\n",
    "            x = (x - input_mean)/input_std\n",
    "    else:\n",
    "        #tf.print('mean')       \n",
    "        #tf.print(len(x.get_shape()))\n",
    "        x = x * input_std + input_mean\n",
    "    '''\n",
    "    #x = (x - tf.keras.backend.mean(x)) / tf.keras.backend.std(x)\n",
    "    #tf.print(\"post mod shape of x\")\n",
    "    #tf.print(tf.shape(x))\n",
    "    return x"
   ]
  },
  {
   "cell_type": "code",
   "execution_count": 89,
   "metadata": {},
   "outputs": [
    {
     "name": "stdout",
     "output_type": "stream",
     "text": [
      "Model: \"sequential\"\n",
      "_________________________________________________________________\n",
      "Layer (type)                 Output Shape              Param #   \n",
      "=================================================================\n",
      "gru (GRU)                    (None, 64)                12864     \n",
      "_________________________________________________________________\n",
      "dense (Dense)                (None, 1)                 65        \n",
      "=================================================================\n",
      "Total params: 12,929\n",
      "Trainable params: 12,929\n",
      "Non-trainable params: 0\n",
      "_________________________________________________________________\n",
      "Epoch 1/20\n",
      "46/46 [==============================] - 3s 66ms/step - loss: 634.3749 - val_loss: 0.0000e+00\n",
      "Epoch 2/20\n",
      "46/46 [==============================] - 1s 25ms/step - loss: 6.9887 - val_loss: 8.8216\n",
      "Epoch 3/20\n",
      "46/46 [==============================] - 1s 24ms/step - loss: 0.5544 - val_loss: 4.5536\n",
      "Epoch 4/20\n",
      "46/46 [==============================] - 1s 26ms/step - loss: 0.4867 - val_loss: 4.2303\n",
      "Epoch 5/20\n",
      "46/46 [==============================] - 1s 27ms/step - loss: 0.4754 - val_loss: 3.2874\n",
      "Epoch 6/20\n",
      "46/46 [==============================] - 1s 27ms/step - loss: 0.4905 - val_loss: 3.8322\n",
      "Epoch 7/20\n",
      "46/46 [==============================] - 1s 31ms/step - loss: 0.4727 - val_loss: 4.2793\n",
      "Epoch 8/20\n",
      "46/46 [==============================] - 1s 27ms/step - loss: 0.4359 - val_loss: 3.0007\n",
      "Epoch 9/20\n",
      "46/46 [==============================] - 1s 28ms/step - loss: 0.4965 - val_loss: 2.6724\n",
      "Epoch 10/20\n",
      "46/46 [==============================] - 1s 27ms/step - loss: 0.4928 - val_loss: 3.7360\n",
      "Epoch 11/20\n",
      "46/46 [==============================] - 1s 28ms/step - loss: 0.4749 - val_loss: 3.5731\n",
      "Epoch 12/20\n",
      "46/46 [==============================] - 1s 27ms/step - loss: 0.4445 - val_loss: 4.3327\n",
      "Epoch 13/20\n",
      "46/46 [==============================] - 1s 28ms/step - loss: 0.4615 - val_loss: 4.4050\n",
      "Epoch 14/20\n",
      "46/46 [==============================] - 1s 32ms/step - loss: 0.4597 - val_loss: 2.7860\n",
      "Epoch 15/20\n",
      "46/46 [==============================] - 1s 27ms/step - loss: 0.4963 - val_loss: 2.5518\n",
      "Epoch 16/20\n",
      "46/46 [==============================] - 1s 28ms/step - loss: 0.4940 - val_loss: 3.7487\n",
      "Epoch 17/20\n",
      "46/46 [==============================] - 1s 28ms/step - loss: 0.4656 - val_loss: 3.2921\n",
      "Epoch 18/20\n",
      "46/46 [==============================] - 1s 28ms/step - loss: 0.4529 - val_loss: 3.0423\n",
      "Epoch 19/20\n",
      "46/46 [==============================] - 1s 30ms/step - loss: 0.4421 - val_loss: 3.1199\n",
      "Epoch 20/20\n",
      "46/46 [==============================] - 1s 27ms/step - loss: 0.4177 - val_loss: 3.3365\n"
     ]
    },
    {
     "data": {
      "text/plain": [
       "<tensorflow.python.keras.callbacks.History at 0x176b71160>"
      ]
     },
     "execution_count": 89,
     "metadata": {},
     "output_type": "execute_result"
    }
   ],
   "source": [
    "distributional = False\n",
    "tf.compat.v1.reset_default_graph()\n",
    "#output_size = train_d.shape[1]\n",
    "tfd = tfp.distributions\n",
    "output_dense_size = 2 if distributional else 1\n",
    "\n",
    "def activations(l, input_mean = None, input_std = None, window_size = None):\n",
    "    l_0 = (tf.keras.activations.linear(l[...,0])) * input_mean #* input_std) + input_mean #* normalization_factors\n",
    "    #l_1 = std_multiplier + \n",
    "    l_1 = ((tf.keras.activations.linear(tf.abs(l[...,1])))) + 1e-6 # * input_std + input_mean) / window_size) / 0.5\n",
    "    #tf.print(l_1)\n",
    "    lnew = tf.stack([l_0, l_1], axis = 1)\n",
    "    return lnew\n",
    "\n",
    "def simple_activations(l):\n",
    "    l_0 = tf.keras.activations.linear(l[...,0])\n",
    "    l_1 = tf.keras.activations.elu(l[...,1])\n",
    "    lnew = tf.stack([l_0, l_1], axis = 1)\n",
    "    return lnew\n",
    "\n",
    "initializers = \"glorot_normal\"\n",
    "activation_name = 'relu'\n",
    "model = tf.keras.models.Sequential([\n",
    "  #tf.keras.layers.LayerNormalization(axis = 0),\n",
    "  #tf.keras.layers.Lambda(layer_normalize, arguments={'factors': normalization_factors, 'input_mean' : np.mean(train_d)[0], 'input_std': np.std(train_d)[0], 'denorm' : False}, input_shape = (window_size,)),\n",
    "  #tf.keras.layers.GRU(32, return_sequences = True, kernel_initializer = initializers, activation = activation_name, input_shape = (window_size, 1)), \n",
    "  #tf.keras.layers.Conv1D(128, kernel_size = 3),\n",
    "  #tf.keras.layers.AveragePooling1D(pool_size = 3, padding = 'valid'),\n",
    "  #tf.keras.layers.LSTM(64, return_sequences=True, kernel_initializer = initializers, activation = activation_name),\n",
    "  #tf.keras.layers.LSTM(256, return_sequences=True, kernel_initializer = initializers),\n",
    "  #tf.keras.layers.Dropout(0.5),\n",
    "  #tf.keras.layers.LSTM(64, return_sequences=True, kernel_initializer = initializers, activation = activation_name),\n",
    "  #tf.keras.layers.LSTM(128, return_sequences=True, kernel_initializer = initializers),\n",
    "  #tf.keras.layers.Dropout(0.1),\n",
    "  #tf.keras.layers.GRU(8, return_sequences=True, kernel_initializer = initializers),\n",
    "  tf.keras.layers.GRU(64, kernel_initializer = initializers, activation = activation_name, input_shape = (window_size, 1)),\n",
    "  #tf.keras.layers.LSTM(32, kernel_initializer = initializers, activation = activation_name),\n",
    "  #tf.keras.layers.Dense(output_dense_size, activation = tf.keras.layers.Activation(lambda x: activations(x, np.mean(train_d)[0], np.std(train_d)[0], window_size)), kernel_initializer = \"he_normal\"),\n",
    "  #tf.keras.layers.Lambda(layer_normalize, arguments={'factors': normalization_factors, 'denorm' : True}),\n",
    "  #tfp.layers.DistributionLambda(lambda t: tfd.Normal(loc=tf.abs(t[..., 0]), scale=0.01*(tf.abs(t[..., 1]))))#-t[...,0]))))#t[...,1])) \n",
    "  #                         #scale=(tf.keras.backend.std[...,1])))\n",
    "  #tfp.layers.DistributionLambda(lambda t: tfd.Normal(loc=t[:,0], scale = t[...,0] + tf.keras.backend.std(t[:,1])))\n",
    "  #                         #scale=1e-3 + tf.math.softplus(0.05 * t[..., 1:]))),\n",
    "  #tfp.layers.IndependentNormal(output_size)\n",
    "  #tfp.layers.DistributionLambda(lambda t: tfd.Normal(loc=t, scale=1))\n",
    "])\n",
    "\n",
    "if distributional:\n",
    "    model.add(tf.keras.layers.Dense(\n",
    "        output_dense_size, activation = 'linear',\n",
    "        #activation = tf.keras.layers.Activation(lambda x: activations(x, np.mean(train_d)[0], np.std(train_d)[0], window_size)),\n",
    "        #activation = tf.keras.layers.Activation(lambda x: simple_activations(x)),\n",
    "        kernel_initializer = \"he_uniform\"))\n",
    "    model.add(tfp.layers.DistributionLambda(lambda t: \n",
    "                                            tfd.Normal(\n",
    "                                                loc=tf.abs(t[..., 0]), \n",
    "                                                scale= 1e-6 + tf.abs(t[..., 1]) #* normalization_factors\n",
    "                                            )))\n",
    "else: \n",
    "    #model.add(tf.keras.layers.Dense(128, activation = 'linear'))\n",
    "    model.add(tf.keras.layers.Dense(1, activation = 'linear', kernel_initializer = initializers))\n",
    "    #model.add(tf.keras.layers.Lambda(layer_normalize, arguments={'factors': normalization_factors, 'input_mean' : np.mean(train_d)[0], 'input_std': np.std(train_d)[0], 'denorm' : True}))\n",
    "#model.add(tf.keras.layers.Lambda(layer_normalize, arguments={'factors': normalization_factors, 'denorm' : True}))\n",
    "    \n",
    "negloglik = lambda y, p_y: -p_y.log_prob(y)\n",
    "#negcheck = lambda y, yh: tf.math.abs(y - yh[:,0])\n",
    "#optimizer = tf.keras.optimizers.Adam()#.minimize(cost)\n",
    "#model.compile(#loss=tf.keras.losses.Huber(),\n",
    "#              loss=negloglik,\n",
    "#              #loss = 'mse',\n",
    "#              #loss = cost,\n",
    "#              optimizer=optimizer,\n",
    "#              #optimizer = 'Adam',\n",
    "#              metrics = ['mae']\n",
    "#             )\n",
    "#model.build(input_shape = (batch_size, window_size, None))\n",
    "#model.summary()\n",
    "#history = model.fit(df, epochs=2, callbacks = [lr_schedule])\n",
    "#history = model.fit(train_df, epochs=10, validation_data = valid_df)\n",
    "\n",
    "loss_function = negloglik if distributional else 'mse' #tf.keras.losses.Huber()\n",
    "model.summary()\n",
    "model.compile(optimizer=tf.keras.optimizers.Adam(), loss=loss_function)\n",
    "model.fit(train_df, epochs=20, verbose=True, validation_data = valid_df)"
   ]
  },
  {
   "cell_type": "code",
   "execution_count": 96,
   "metadata": {},
   "outputs": [],
   "source": [
    "forecasts = []\n",
    "sds = []\n",
    "#indices = [j for j in range(x.get_shape()[0])]      \n",
    "#print(indices)\n",
    "vs = np.array(valid_d)\n",
    "#xs = list(x[i,:,:] for i in indices)\n",
    "for time in range(len(valid_d) - window_size):\n",
    "    prediction = model.predict(vs[time:time+window_size].reshape((1, window_size, 1)))\n",
    "    forecasts.append(prediction)\n",
    "    sds.append(vs[time+window_size] - prediction)\n",
    "    #forecasts.append(model(vs[time:time+window_size].reshape((1, window_size, 1))))\n",
    "#print(vs[:window_size])\n",
    "#print(forecasts)"
   ]
  },
  {
   "cell_type": "code",
   "execution_count": 122,
   "metadata": {},
   "outputs": [
    {
     "name": "stdout",
     "output_type": "stream",
     "text": [
      "734\n"
     ]
    },
    {
     "data": {
      "text/plain": [
       "1.8252684217699195"
      ]
     },
     "execution_count": 122,
     "metadata": {},
     "output_type": "execute_result"
    }
   ],
   "source": [
    "print(len(forecasts))\n",
    "forecasts[1]\n",
    "if distributional:\n",
    "    ymeans = np.array([i.mean() for i in forecasts])\n",
    "    ystdv = np.array([i.stddev() for i in forecasts])\n",
    "else:\n",
    "    forecasts = np.array(forecasts[:,0,0])\n",
    "    sds = np.array(sds)[:,0,0]\n",
    "forecasts\n",
    "sd_estimate = np.sqrt(np.sum(sds ** 2)/(sds.shape[0]-1))\n",
    "sd_estimate"
   ]
  },
  {
   "cell_type": "code",
   "execution_count": 120,
   "metadata": {},
   "outputs": [
    {
     "data": {
      "text/plain": [
       "734"
      ]
     },
     "execution_count": 120,
     "metadata": {},
     "output_type": "execute_result"
    }
   ],
   "source": [
    "sds.shape[0]"
   ]
  },
  {
   "cell_type": "code",
   "execution_count": 65,
   "metadata": {},
   "outputs": [
    {
     "data": {
      "text/plain": [
       "109.71538"
      ]
     },
     "execution_count": 65,
     "metadata": {},
     "output_type": "execute_result"
    }
   ],
   "source": [
    "forecasts[0].shape\n",
    "results = np.array(forecasts)[:, 0]\n",
    "np.max(results)"
   ]
  },
  {
   "cell_type": "code",
   "execution_count": 126,
   "metadata": {},
   "outputs": [
    {
     "data": {
      "text/plain": [
       "<matplotlib.legend.Legend at 0x18823ce48>"
      ]
     },
     "execution_count": 126,
     "metadata": {},
     "output_type": "execute_result"
    },
    {
     "data": {
      "image/png": "[encoded data removed]",
      "text/plain": [
       "<Figure size 432x288 with 1 Axes>"
      ]
     },
     "metadata": {
      "needs_background": "light"
     },
     "output_type": "display_data"
    }
   ],
   "source": [
    "plt.plot(np.array(valid_d)[window_size + 100: window_size + 150], '.', label = 'obs')\n",
    "plt.plot(forecasts[100:150], '.', label = 'pred')\n",
    "plt.plot(forecasts[100:150] + sd_estimate, '-')\n",
    "plt.plot(forecasts[100:150] - sd_estimate, '-')\n",
    "plt.legend()"
   ]
  },
  {
   "cell_type": "markdown",
   "metadata": {},
   "source": [
    "## draftpad: (nothing interesting below)"
   ]
  },
  {
   "cell_type": "code",
   "execution_count": 90,
   "metadata": {},
   "outputs": [
    {
     "data": {
      "text/plain": [
       "<PrefetchDataset shapes: ((None, None, 1), (None,)), types: (tf.float64, tf.float64)>"
      ]
     },
     "execution_count": 90,
     "metadata": {},
     "output_type": "execute_result"
    }
   ],
   "source": [
    "train_df"
   ]
  },
  {
   "cell_type": "code",
   "execution_count": null,
   "metadata": {},
   "outputs": [],
   "source": []
  },
  {
   "cell_type": "code",
   "execution_count": 91,
   "metadata": {},
   "outputs": [],
   "source": [
    "x = np.zeros(shape = (batch_size, window_size))\n",
    "y = np.zeros(shape = (batch_size, 1))\n",
    "for i, j in valid_df:\n",
    "    x = i\n",
    "    y = j\n",
    "    break"
   ]
  },
  {
   "cell_type": "code",
   "execution_count": 92,
   "metadata": {},
   "outputs": [
    {
     "name": "stdout",
     "output_type": "stream",
     "text": [
      "(32, 30, 1) (32,) False\n"
     ]
    }
   ],
   "source": [
    "print(x.shape, y.shape, distributional)"
   ]
  },
  {
   "cell_type": "code",
   "execution_count": 93,
   "metadata": {},
   "outputs": [],
   "source": [
    "if (distributional):\n",
    "    ys = model(x)\n",
    "    yhat = ys.mean()\n",
    "    ydev = ys.stddev()\n",
    "else:\n",
    "    #ys = pd.DataFrame(model.predict(x))\n",
    "    ys = model.predict(x)"
   ]
  },
  {
   "cell_type": "code",
   "execution_count": 94,
   "metadata": {},
   "outputs": [
    {
     "data": {
      "text/plain": [
       "(32, 1)"
      ]
     },
     "execution_count": 94,
     "metadata": {},
     "output_type": "execute_result"
    }
   ],
   "source": [
    "ys.shape"
   ]
  },
  {
   "cell_type": "code",
   "execution_count": null,
   "metadata": {},
   "outputs": [],
   "source": []
  },
  {
   "cell_type": "code",
   "execution_count": 95,
   "metadata": {},
   "outputs": [
    {
     "data": {
      "text/plain": [
       "<matplotlib.legend.Legend at 0x179e447b8>"
      ]
     },
     "execution_count": 95,
     "metadata": {},
     "output_type": "execute_result"
    },
    {
     "data": {
      "image/png": "[encoded data removed]",
      "text/plain": [
       "<Figure size 432x288 with 1 Axes>"
      ]
     },
     "metadata": {
      "needs_background": "light"
     },
     "output_type": "display_data"
    }
   ],
   "source": [
    "plt.plot(y, '.', label = 'obs')\n",
    "if distributional:\n",
    "    plt.plot(yhat, 'r.', label = 'pred')\n",
    "    plt.plot(yhat + 2*ydev, '-')\n",
    "    plt.plot(yhat - 2*ydev, '-')\n",
    "else:\n",
    "    plt.plot(ys[:50, 0], '.', label = 'pred')\n",
    "plt.legend()"
   ]
  },
  {
   "cell_type": "code",
   "execution_count": null,
   "metadata": {},
   "outputs": [],
   "source": [
    "ys.shape"
   ]
  },
  {
   "cell_type": "code",
   "execution_count": null,
   "metadata": {},
   "outputs": [],
   "source": [
    "ts = vs[:30].reshape((1, 30))\n",
    "ts.shape\n",
    "model.predict(ts)"
   ]
  },
  {
   "cell_type": "code",
   "execution_count": null,
   "metadata": {},
   "outputs": [],
   "source": [
    "vs[time:time+window_size].reshape((window_size))"
   ]
  },
  {
   "cell_type": "code",
   "execution_count": null,
   "metadata": {},
   "outputs": [],
   "source": [
    "plt.plot(y, 'b.')\n",
    "plt.plot(model(x)[:,0], 'r.')\n",
    "plt.plot(model(x)[:,0] + model(x)[:,1], '-')"
   ]
  },
  {
   "cell_type": "code",
   "execution_count": null,
   "metadata": {},
   "outputs": [],
   "source": [
    "p = model.predict(valid_df)\n",
    "#p = p.reshape((1480, 4165))\n",
    "print(d.shape)\n",
    "print(p.shape)\n",
    "print(valid_d.describe())\n",
    "p = pd.DataFrame(p) #* d.max(axis = 0).reset_index(drop = True)\n",
    "print(p.describe())"
   ]
  },
  {
   "cell_type": "code",
   "execution_count": null,
   "metadata": {},
   "outputs": [],
   "source": [
    "yhat = model.predict(valid_df)"
   ]
  },
  {
   "cell_type": "code",
   "execution_count": null,
   "metadata": {},
   "outputs": [],
   "source": [
    "mean = yhat.mean()\n",
    "stddev = yhat.std()\n",
    "mean_plus_2_stddev = mean - 2. * stddev\n",
    "mean_minus_2_stddev = mean + 2. * stddev\n",
    "#plt.plot(mean)#, 'o')\n",
    "plt.plot(yhat, '.')\n",
    "plt.plot(vd*normalization_factors + mean_plus_2_stddev, '-')"
   ]
  },
  {
   "cell_type": "code",
   "execution_count": null,
   "metadata": {},
   "outputs": [],
   "source": [
    "vd = valid_d.reset_index(drop = True)\n",
    "normalization_factors"
   ]
  },
  {
   "cell_type": "code",
   "execution_count": null,
   "metadata": {},
   "outputs": [],
   "source": [
    "def mdn_cost(mu, sigma, y):\n",
    "    dist = tf.distributions.Normal(loc=mu, scale=sigma)\n",
    "    return tf.reduce_mean(-dist.log_prob(y))"
   ]
  },
  {
   "cell_type": "markdown",
   "metadata": {},
   "source": [
    "Since I'm trying to output mean and variance for each stock, I will need two units in my output layer and each will most likely require a different activation function. This can be done [at least more neatly] in funnctional API of keras."
   ]
  },
  {
   "cell_type": "code",
   "execution_count": null,
   "metadata": {},
   "outputs": [],
   "source": [
    "output_size = train_d.shape[1]\n",
    "variables = train_d.shape[1]\n",
    "#output_size = 1\n",
    "print(output_size)\n",
    "inputs = tf.keras.Input(shape=(None, variables))\n",
    "normalization_layer = tf.keras.layers.Lambda(layer_normalize, arguments={'factors': normalization_factors, 'denorm' : False})(inputs)\n",
    "output_1 = tf.keras.layers.LSTM(128, return_sequences=True)(normalization_layer)\n",
    "output_2 = tf.keras.layers.LSTM(256, return_sequences=True)(output_1)\n",
    "output_3 = tf.keras.layers.LSTM(256, return_sequences=True)(output_2)\n",
    "output_4 = tf.keras.layers.LSTM(128, return_sequences=False)(output_3)\n",
    "#predictions = tf.keras.layers.Dense(1, activation='elu')(output_4)\n",
    "\n",
    "#sigmoid_out = tf.keras.layers.Dense(units=1, activation=tf.nn.sigmoid)\n",
    "#relu_out = tf.keras.layers.Dense(units=1, activation=tf.nn.relu)\n",
    "#out = tf.concat([sigmoid_out, relu_out], axis=1)\n",
    "\n",
    "#denorm_layer = tf.keras.layers.Lambda(layer_normalize, arguments={'factors': normalization_factors, 'denorm' : True})(predictions)\n",
    "\n",
    "mu = tf.keras.layers.Dense(units=1, activation = 'elu')(output_4)\n",
    "sigma = tf.keras.layers.Dense(units=1,activation=lambda x: tf.nn.elu(x) + 1)(output_4)\n",
    "\n",
    "mu_denorm = tf.keras.layers.Lambda(layer_normalize, arguments={'factors': normalization_factors, 'denorm' : True})(mu)\n",
    "sigma_denorm = tf.keras.layers.Lambda(layer_normalize, arguments={'factors': normalization_factors, 'denorm' : True})(sigma)\n",
    "\n",
    "out = tf.concat([sigma_denorm, mu_denorm], axis=1)\n",
    "\n",
    "model = tf.keras.Model(inputs=inputs, outputs=out)\n",
    "\n",
    "'''\n",
    "sigmoid_out = tf.keras.layers.Dense(units=1, activation=tf.nn.sigmoid)\n",
    "relu_out = tf.keras.layers.Dense(units=1, activation=tf.nn.relu)\n",
    "out = tf.concat([sigmoid_out, relu_out], axis=1)\n",
    "inner_layers.add(out)\n",
    "\n",
    "denorm_layer = tf.keras.layers.Lambda(layer_normalize, arguments={'factors': normalization_factors, 'denorm' : True})\n",
    "\n",
    "inner_layers.add(denorm_layer)\n",
    "model = inner_layers\n",
    "\n",
    "lr_schedule = tf.keras.callbacks.LearningRateScheduler(\n",
    "    lambda epoch: 1e-2 * 10**(epoch / 20))\n",
    "#optimizer = tf.keras.optimizers.SGD(lr=1e-8, momentum=0.9)\n",
    "#optimizer = tf.keras.optimizers.SGD(lr=1e-7, momentum=0.9)\n",
    "#optimizer = tf.keras.optimizers.SGD(lr=1e-10, momentum = 0.9, clipnorm = 2)\n",
    "optimizer = tf.keras.optimizers.Adam()\n",
    "#optimizer = tf.keras.optimizers.RMSprop()\n",
    "'''\n",
    "cost = mdn_cost(mu_denorm, sigma_denorm, y)\n",
    "optimizer = tf.keras.optimizers.Adam().minimize(cost)\n",
    "model.compile(#loss=tf.keras.losses.Huber(),\n",
    "              #loss = 'mse',\n",
    "              loss = cost,\n",
    "              optimizer=optimizer,\n",
    "              #optimizer = 'Adam',\n",
    "              metrics = ['mae']\n",
    "             )\n",
    "#model.build(input_shape = (batch_size, window_size, None))\n",
    "#model.summary()\n",
    "#history = model.fit(df, epochs=2, callbacks = [lr_schedule])\n",
    "history = model.fit(train_df, epochs=10, validation_data = valid_df)#, callbacks = [lr_schedule])"
   ]
  },
  {
   "cell_type": "code",
   "execution_count": null,
   "metadata": {},
   "outputs": [],
   "source": [
    "output_size = train_d.shape[1]\n",
    "#output_size = 1\n",
    "print(output_size)\n",
    "model = tf.keras.models.Sequential([\n",
    "  #tf.keras.layers.Lambda(lambda x: tf.expand_dims(x, axis=-1), input_shape=[None]), #if the input is one stock\n",
    "  tf.keras.layers.Lambda(layer_normalize, arguments={'factors': normalization_factors, 'denorm' : False}),\n",
    "  #tf.keras.layers.Conv1D(128, kernel_size = 3, input_shape = (batch_size, window_size, None)),\n",
    "  #tf.keras.layers.AveragePooling1D(),\n",
    "  #tf.keras.layers.Conv1D(256, kernel_size = 3),\n",
    "  #tf.keras.layers.AveragePooling1D(),\n",
    "  #tf.keras.layers.Conv1D(256, kernel_size = 1),\n",
    "  #tf.keras.layers.AveragePooling1D(),\n",
    "  #tf.keras.layers.Conv1D(256, kernel_size = 1, activation = 'relu'),\n",
    "  #tf.keras.layers.AveragePooling1D(),\n",
    "  #tf.keras.layers.GRU(512, return_sequences=True),\n",
    "  #tf.keras.layers.Dropout(0.5),\n",
    "  #tf.keras.layers.GRU(256, return_sequences=True),\n",
    "  #tf.keras.layers.GRU(256, return_sequences=True),\n",
    "  #tf.keras.layers.GRU(256, return_sequences=True),\n",
    "  #tf.keras.layers.GRU(256),\n",
    "  #tf.keras.layers.SimpleRNN(128, return_sequences=True),\n",
    "  #tf.keras.layers.SimpleRNN(256, return_sequences=True),\n",
    "  #tf.keras.layers.SimpleRNN(512, return_sequences=True),\n",
    "  #tf.keras.layers.SimpleRNN(256, return_sequences=True),\n",
    "  #tf.keras.layers.SimpleRNN(128),\n",
    "  tf.keras.layers.LSTM(128, return_sequences=True),\n",
    "  tf.keras.layers.LSTM(256, return_sequences=True),\n",
    "  #tf.keras.layers.Dropout(0.5),\n",
    "  tf.keras.layers.LSTM(256, return_sequences=True),\n",
    "  tf.keras.layers.LSTM(128),\n",
    "  #tf.keras.layers.Dropout(0.5),\n",
    "  #tf.keras.layers.LSTM(256, return_sequences=True),\n",
    "  #tf.keras.layers.Dropout(0.5),\n",
    "  #tf.keras.layers.LSTM(256, return_sequences=True, activation = 'relu'),\n",
    "  #tf.keras.layers.Dropout(0.5),\n",
    "  #tf.keras.layers.LSTM(256, return_sequences=True, activation = 'relu'),\n",
    "  #tf.keras.layers.Dropout(0.5),\n",
    "  #tf.keras.layers.LSTM(256, return_sequences=True, activation = 'relu'),\n",
    "  #tf.keras.layers.Dropout(0.5),\n",
    "  #tf.keras.layers.LSTM(256, return_sequences=True, activation = 'relu'),\n",
    "  #tf.keras.layers.LSTM(256, return_sequences=True, activation = 'relu'),\n",
    "  #tf.keras.layers.LSTM(256, return_sequences=True, activation = 'relu'),\n",
    "  #tf.keras.layers.Dropout(0.5),\n",
    "  #tf.keras.layers.LSTM(256, return_sequences=True, activation = 'relu'),\n",
    "  #tf.keras.layers.LSTM(256, return_sequences=True, activation = 'relu'),\n",
    "  #tf.keras.layers.LSTM(256, activation = 'tanh', return_sequences=True),\n",
    "  #tf.keras.layers.LSTM(128),\n",
    "  #tf.keras.layers.SimpleRNN(64, return_sequences = True),\n",
    "  #tf.keras.layers.SimpleRNN(128, return_sequences = True),\n",
    "  #tf.keras.layers.SimpleRNN(256),\n",
    "  tf.keras.layers.Dense(output_size, activation = 'elu'),\n",
    "  #tf.keras.layers.Lambda(lambda x: x + 1),\n",
    "  tf.keras.layers.Lambda(layer_normalize, arguments={'factors': normalization_factors, 'denorm' : True})\n",
    "])\n",
    "\n",
    "\n",
    "lr_schedule = tf.keras.callbacks.LearningRateScheduler(\n",
    "    lambda epoch: 1e-2 * 10**(epoch / 20))\n",
    "#optimizer = tf.keras.optimizers.SGD(lr=1e-8, momentum=0.9)\n",
    "#optimizer = tf.keras.optimizers.SGD(lr=1e-7, momentum=0.9)\n",
    "#optimizer = tf.keras.optimizers.SGD(lr=1e-10, momentum = 0.9, clipnorm = 2)\n",
    "optimizer = tf.keras.optimizers.Adam()\n",
    "#optimizer = tf.keras.optimizers.RMSprop()\n",
    "model.compile(loss=tf.keras.losses.Huber(),\n",
    "              #loss = 'mse',\n",
    "              optimizer=optimizer,\n",
    "              #optimizer = 'Adam',\n",
    "              metrics = ['mae']\n",
    "             )\n",
    "#model.build(input_shape = (batch_size, window_size, None))\n",
    "#model.summary()\n",
    "#history = model.fit(df, epochs=2, callbacks = [lr_schedule])\n",
    "history = model.fit(train_df, epochs=10, validation_data = valid_df)#, callbacks = [lr_schedule])"
   ]
  },
  {
   "cell_type": "code",
   "execution_count": null,
   "metadata": {},
   "outputs": [],
   "source": [
    "d.to_numpy()[50:55, :8]\n",
    "train_d.describe()"
   ]
  },
  {
   "cell_type": "code",
   "execution_count": null,
   "metadata": {},
   "outputs": [],
   "source": [
    "#p = model.predict(np.array(d['MSFT']).reshape((len(d['MSFT']), 1)))\n",
    "p = model.predict(train_df)\n",
    "#p = p.reshape((1480, 4165))\n",
    "print(d.shape)\n",
    "print(p.shape)\n",
    "p = pd.DataFrame(p)\n",
    "p2 = p #* d.max(axis = 0).reset_index(drop = True)\n",
    "p2.describe()"
   ]
  },
  {
   "cell_type": "code",
   "execution_count": null,
   "metadata": {},
   "outputs": [],
   "source": [
    "### MDN MODEL\n",
    "\n",
    "N_MIXES = 1  # number of mixture components\n",
    "OUTPUT_DIMS = 1  # number of real-values predicted by each mixture component\n",
    "\n",
    "model = tf.keras.models.Sequential([\n",
    "  tf.keras.layers.Lambda(layer_normalize, arguments={'factors': normalization_factors, 'denorm' : False}),\n",
    "  tf.keras.layers.LSTM(128, return_sequences=True),\n",
    "  tf.keras.layers.LSTM(256, return_sequences=True),\n",
    "  tf.keras.layers.LSTM(256, return_sequences=True),\n",
    "  tf.keras.layers.LSTM(128),\n",
    "  tf.keras.layers.Dense(1, activation = 'elu'),\n",
    "  tf.keras.layers.Lambda(layer_normalize, arguments={'factors': normalization_factors, 'denorm' : True})\n",
    "])\n",
    "\n",
    "model.add(mdn.MDN(OUTPUT_DIMS, N_MIXES))\n",
    "model.compile(loss=mdn.get_mixture_loss_func(1,N_MIXES), optimizer=tf.keras.optimizers.Adam())\n",
    "#model(train_df)\n",
    "#model.summary()\n",
    "history = model.fit(train_df, epochs=10)\n",
    "p = model.predict(train_df)\n",
    "y_samples = np.apply_along_axis(mdn.sample_from_output, 1, p, OUTPUT_DIMS, N_MIXES, temp=1.0)"
   ]
  },
  {
   "cell_type": "code",
   "execution_count": null,
   "metadata": {},
   "outputs": [],
   "source": [
    "s = pd.DataFrame({'s' : y_samples[:, 0, 0] * normalization_factors[0]})\n",
    "s.describe()\n",
    "#normalization_factors"
   ]
  },
  {
   "cell_type": "code",
   "execution_count": null,
   "metadata": {},
   "outputs": [],
   "source": [
    "p = model.predict(valid_df)\n",
    "#p = p.reshape((1480, 4165))\n",
    "print(d.shape)\n",
    "print(p.shape)\n",
    "print(valid_d.describe())\n",
    "p = pd.DataFrame(p) #* d.max(axis = 0).reset_index(drop = True)\n",
    "print(p.describe())"
   ]
  },
  {
   "cell_type": "code",
   "execution_count": null,
   "metadata": {},
   "outputs": [],
   "source": [
    "print(valid_d.describe())\n",
    "print(train_d.describe())"
   ]
  },
  {
   "cell_type": "code",
   "execution_count": null,
   "metadata": {},
   "outputs": [],
   "source": [
    "valid_d.tail()"
   ]
  },
  {
   "cell_type": "code",
   "execution_count": null,
   "metadata": {},
   "outputs": [],
   "source": [
    "p2 = model.predict(df)\n",
    "pd.DataFrame(p2).describe()"
   ]
  },
  {
   "cell_type": "code",
   "execution_count": null,
   "metadata": {},
   "outputs": [],
   "source": [
    "plt.semilogx(history.history[\"lr\"], history.history[\"loss\"])\n",
    "plt.axis([1e-8, 1e-1, 130000, 170000])"
   ]
  },
  {
   "cell_type": "code",
   "execution_count": null,
   "metadata": {},
   "outputs": [],
   "source": [
    "np.where(d.columns.values == \"MSFT\")"
   ]
  },
  {
   "cell_type": "code",
   "execution_count": null,
   "metadata": {},
   "outputs": [],
   "source": [
    "p[:, 2572].max()"
   ]
  },
  {
   "cell_type": "code",
   "execution_count": null,
   "metadata": {},
   "outputs": [],
   "source": [
    "t.tickers[0].info"
   ]
  },
  {
   "cell_type": "code",
   "execution_count": null,
   "metadata": {},
   "outputs": [],
   "source": [
    "t = yf.Tickers(' '.join(list(tickers.keys())))"
   ]
  },
  {
   "cell_type": "code",
   "execution_count": null,
   "metadata": {},
   "outputs": [],
   "source": [
    "#df = t.history(period=\"9y\", interval = '1d')\n",
    "?Tickers.history"
   ]
  },
  {
   "cell_type": "code",
   "execution_count": null,
   "metadata": {},
   "outputs": [],
   "source": [
    "yf.Tickers.history"
   ]
  },
  {
   "cell_type": "code",
   "execution_count": null,
   "metadata": {},
   "outputs": [],
   "source": [
    "t.history(period=\"9y\", interval = '1d', 'Open')"
   ]
  },
  {
   "cell_type": "code",
   "execution_count": null,
   "metadata": {},
   "outputs": [],
   "source": []
  },
  {
   "cell_type": "code",
   "execution_count": null,
   "metadata": {},
   "outputs": [],
   "source": [
    "import mdn"
   ]
  },
  {
   "cell_type": "code",
   "execution_count": null,
   "metadata": {},
   "outputs": [],
   "source": [
    "!pip3 install keras-mdn-layer"
   ]
  },
  {
   "cell_type": "code",
   "execution_count": null,
   "metadata": {},
   "outputs": [],
   "source": [
    "import sys\n",
    "print(sys.version)"
   ]
  },
  {
   "cell_type": "code",
   "execution_count": null,
   "metadata": {},
   "outputs": [],
   "source": [
    "import mdn"
   ]
  },
  {
   "cell_type": "code",
   "execution_count": null,
   "metadata": {},
   "outputs": [],
   "source": []
  }
 ],
 "metadata": {
  "kernelspec": {
   "display_name": "Python 3",
   "language": "python",
   "name": "python3"
  },
  "language_info": {
   "codemirror_mode": {
    "name": "ipython",
    "version": 3
   },
   "file_extension": ".py",
   "mimetype": "text/x-python",
   "name": "python",
   "nbconvert_exporter": "python",
   "pygments_lexer": "ipython3",
   "version": "3.7.1"
  }
 },
 "nbformat": 4,
 "nbformat_minor": 2
}
